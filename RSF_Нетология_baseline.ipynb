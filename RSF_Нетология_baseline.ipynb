{
 "cells": [
  {
   "cell_type": "markdown",
   "metadata": {},
   "source": [
    "# Предсказание покупки следующего курса"
   ]
  },
  {
   "cell_type": "markdown",
   "metadata": {},
   "source": [
    "### Загрузим необходимые библиотеки"
   ]
  },
  {
   "cell_type": "code",
   "execution_count": 4,
   "metadata": {
    "id": "MTgpe_1quUDs"
   },
   "outputs": [],
   "source": [
    "%matplotlib inline\n",
    "import numpy as np\n",
    "import pandas as pd\n",
    "#import seaborn as sns\n",
    "import matplotlib.pyplot as plt\n",
    "from sklearn.model_selection import train_test_split\n",
    "from sklearn.ensemble import RandomForestClassifier\n",
    "\n",
    "import torch\n",
    "import torch.nn as nn\n",
    "import torch.optim as optim\n",
    "import torch.nn.functional as F\n",
    "from torch.utils.data import Dataset, DataLoader\n",
    "\n",
    "from tqdm import tqdm"
   ]
  },
  {
   "cell_type": "markdown",
   "metadata": {},
   "source": [
    "### Загружаем датасеты"
   ]
  },
  {
   "cell_type": "code",
   "execution_count": 400,
   "metadata": {
    "id": "o9N4JbcWudk2"
   },
   "outputs": [],
   "source": [
    "df = pd.read_csv(\"./content/train_dataset_train.csv\")\n",
    "dft = pd.read_csv(\"./content/test_dataset_test.csv\")"
   ]
  },
  {
   "cell_type": "markdown",
   "metadata": {},
   "source": [
    "### и объединяем их"
   ]
  },
  {
   "cell_type": "code",
   "execution_count": 401,
   "metadata": {},
   "outputs": [],
   "source": [
    "len_df = len(df)\n",
    "dfres = pd.concat([df, dft], ignore_index=True)\n",
    "#len(dfres)\n",
    "#dfres = dfres.fillna(0)\n",
    "#dfres.info(verbose=True)"
   ]
  },
  {
   "cell_type": "code",
   "execution_count": 402,
   "metadata": {},
   "outputs": [],
   "source": [
    "dfres = dfres.fillna(-1)"
   ]
  },
  {
   "cell_type": "markdown",
   "metadata": {
    "id": "GgCS5B_PutbW"
   },
   "source": [
    "### Рассмотрим датасеты по ближе"
   ]
  },
  {
   "cell_type": "code",
   "execution_count": 403,
   "metadata": {
    "colab": {
     "base_uri": "https://localhost:8080/",
     "height": 237
    },
    "id": "qEvfySMMutBR",
    "outputId": "68972fc6-40ca-4880-8e8f-eaefb3c5c011"
   },
   "outputs": [
    {
     "data": {
      "text/html": [
       "<div>\n",
       "<style scoped>\n",
       "    .dataframe tbody tr th:only-of-type {\n",
       "        vertical-align: middle;\n",
       "    }\n",
       "\n",
       "    .dataframe tbody tr th {\n",
       "        vertical-align: top;\n",
       "    }\n",
       "\n",
       "    .dataframe thead th {\n",
       "        text-align: right;\n",
       "    }\n",
       "</style>\n",
       "<table border=\"1\" class=\"dataframe\">\n",
       "  <thead>\n",
       "    <tr style=\"text-align: right;\">\n",
       "      <th></th>\n",
       "      <th>id</th>\n",
       "      <th>age_indicator</th>\n",
       "      <th>month_id</th>\n",
       "      <th>student_id</th>\n",
       "      <th>program_id</th>\n",
       "      <th>carts_created_at</th>\n",
       "      <th>spent_time_total</th>\n",
       "      <th>spent_time_to_complete_hw</th>\n",
       "      <th>completed_hw</th>\n",
       "      <th>failed_hw</th>\n",
       "      <th>...</th>\n",
       "      <th>p_total_calls</th>\n",
       "      <th>p_was_conversations</th>\n",
       "      <th>p_total_duration</th>\n",
       "      <th>support_feedback_avg</th>\n",
       "      <th>feedback_avg_d1</th>\n",
       "      <th>feedback_avg_d2</th>\n",
       "      <th>feedback_avg_d3</th>\n",
       "      <th>feedback_avg_d4</th>\n",
       "      <th>feedback_avg_d5</th>\n",
       "      <th>target</th>\n",
       "    </tr>\n",
       "  </thead>\n",
       "  <tbody>\n",
       "    <tr>\n",
       "      <th>0</th>\n",
       "      <td>15182</td>\n",
       "      <td>32.0</td>\n",
       "      <td>9/30/2020</td>\n",
       "      <td>6694527</td>\n",
       "      <td>1469</td>\n",
       "      <td>8/26/2020</td>\n",
       "      <td>163.0</td>\n",
       "      <td>0.0</td>\n",
       "      <td>1.0</td>\n",
       "      <td>0.0</td>\n",
       "      <td>...</td>\n",
       "      <td>NaN</td>\n",
       "      <td>NaN</td>\n",
       "      <td>NaN</td>\n",
       "      <td>4.0</td>\n",
       "      <td>5.0</td>\n",
       "      <td>NaN</td>\n",
       "      <td>NaN</td>\n",
       "      <td>NaN</td>\n",
       "      <td>NaN</td>\n",
       "      <td>0</td>\n",
       "    </tr>\n",
       "    <tr>\n",
       "      <th>1</th>\n",
       "      <td>89385</td>\n",
       "      <td>NaN</td>\n",
       "      <td>6/30/2021</td>\n",
       "      <td>6712877</td>\n",
       "      <td>1392</td>\n",
       "      <td>8/5/2020</td>\n",
       "      <td>NaN</td>\n",
       "      <td>NaN</td>\n",
       "      <td>NaN</td>\n",
       "      <td>NaN</td>\n",
       "      <td>...</td>\n",
       "      <td>NaN</td>\n",
       "      <td>NaN</td>\n",
       "      <td>NaN</td>\n",
       "      <td>NaN</td>\n",
       "      <td>NaN</td>\n",
       "      <td>NaN</td>\n",
       "      <td>NaN</td>\n",
       "      <td>NaN</td>\n",
       "      <td>NaN</td>\n",
       "      <td>0</td>\n",
       "    </tr>\n",
       "    <tr>\n",
       "      <th>2</th>\n",
       "      <td>47931</td>\n",
       "      <td>NaN</td>\n",
       "      <td>2/28/2021</td>\n",
       "      <td>6659444</td>\n",
       "      <td>376</td>\n",
       "      <td>6/20/2020</td>\n",
       "      <td>NaN</td>\n",
       "      <td>NaN</td>\n",
       "      <td>NaN</td>\n",
       "      <td>NaN</td>\n",
       "      <td>...</td>\n",
       "      <td>NaN</td>\n",
       "      <td>NaN</td>\n",
       "      <td>NaN</td>\n",
       "      <td>NaN</td>\n",
       "      <td>NaN</td>\n",
       "      <td>NaN</td>\n",
       "      <td>NaN</td>\n",
       "      <td>NaN</td>\n",
       "      <td>NaN</td>\n",
       "      <td>0</td>\n",
       "    </tr>\n",
       "  </tbody>\n",
       "</table>\n",
       "<p>3 rows × 59 columns</p>\n",
       "</div>"
      ],
      "text/plain": [
       "      id  age_indicator   month_id  student_id  program_id carts_created_at  \\\n",
       "0  15182           32.0  9/30/2020     6694527        1469        8/26/2020   \n",
       "1  89385            NaN  6/30/2021     6712877        1392         8/5/2020   \n",
       "2  47931            NaN  2/28/2021     6659444         376        6/20/2020   \n",
       "\n",
       "   spent_time_total  spent_time_to_complete_hw  completed_hw  failed_hw  ...  \\\n",
       "0             163.0                        0.0           1.0        0.0  ...   \n",
       "1               NaN                        NaN           NaN        NaN  ...   \n",
       "2               NaN                        NaN           NaN        NaN  ...   \n",
       "\n",
       "   p_total_calls  p_was_conversations  p_total_duration  support_feedback_avg  \\\n",
       "0            NaN                  NaN               NaN                   4.0   \n",
       "1            NaN                  NaN               NaN                   NaN   \n",
       "2            NaN                  NaN               NaN                   NaN   \n",
       "\n",
       "   feedback_avg_d1  feedback_avg_d2  feedback_avg_d3  feedback_avg_d4  \\\n",
       "0              5.0              NaN              NaN              NaN   \n",
       "1              NaN              NaN              NaN              NaN   \n",
       "2              NaN              NaN              NaN              NaN   \n",
       "\n",
       "   feedback_avg_d5  target  \n",
       "0              NaN       0  \n",
       "1              NaN       0  \n",
       "2              NaN       0  \n",
       "\n",
       "[3 rows x 59 columns]"
      ]
     },
     "execution_count": 403,
     "metadata": {},
     "output_type": "execute_result"
    }
   ],
   "source": [
    "df.head(3)"
   ]
  },
  {
   "cell_type": "markdown",
   "metadata": {},
   "source": [
    "```\n",
    " 0   id                         200000 non-null  int64   # уникальное значение каждой строк\n",
    " 1   age_indicator              159123 non-null  float64 # возраст в условных единицах\n",
    " 2   month_id                   200000 non-null  object  # последний день месяца среза\n",
    " 3   student_id                 200000 non-null  int64   # id студента  \n",
    " 4   program_id                 200000 non-null  int64   # id продукта\n",
    " 5   carts_created_at           200000 non-null  object  # дата создания заявки\n",
    " 6   spent_time_total           86309 non-null   float64 # время за учебой в условных единицах\n",
    " 7   spent_time_to_complete_hw  42467 non-null   float64 # время, потраченное на выполнение дз\n",
    " 8   completed_hw               97599 non-null   float64 # кол-во выполненных дз\n",
    " 9   failed_hw                  97599 non-null   float64 # кол-во проваленных дз \n",
    " 10  reworked_hw                97599 non-null   float64 # кол-во переделанных дз \n",
    " 11  interacted_hw              97599 non-null   float64 # кол-во дз, которыми занимался студент в этом месяце\n",
    " 12  avg_hw_mark                44496 non-null   float64 # средняя оценка за дз\n",
    " 13  test_with_good_mark        97599 non-null   float64 # кол-во тестов с удовлетворительной оценкой\n",
    " 14  test_with_great_mark       97599 non-null   float64 # кол-во тестов с отличной оценкой\n",
    " 15  webinars                   97599 non-null   float64 # кол-во просмотренных вебинаров\n",
    " 16  avg_quiz_result            16259 non-null   float64 # средняя оценка за квизы\n",
    " 17  notes                      97599 non-null   float64 # кол-во оставленных заметок\n",
    " 18  hw_leader                  97599 non-null   float64 # был лидером в групповых заданиях\n",
    " 19  lessons                    97599 non-null   float64 # кол-во уроков, которые открывал пользователь\n",
    " 20  activity                   97599 non-null   float64 # общая активность студента в личном кабинете\n",
    " 21  bought_d1                  200000 non-null  int64   # кол-во прошлых покупок в направлении 1\n",
    " 22  bought_d2                  200000 non-null  int64   \n",
    " 23  bought_d3                  200000 non-null  int64  \n",
    " 24  bought_d4                  200000 non-null  int64  \n",
    " 25  bought_d5                  200000 non-null  int64  \n",
    " 26  bought_avg_duration        10359 non-null   float64\n",
    " 27  payment_type               200000 non-null  int64   # тип оплаты\n",
    " 28  promo                      200000 non-null  object  # участвовал ли в любой промокампании\n",
    " 29  price                      200000 non-null  float64 # цена программы\n",
    " 30  communication_type         198595 non-null  object  # тип создания заявки (ОП или сам через сайт)\n",
    " 31  auto_payment               200000 non-null  int64   # автопокупка (1 или 0)\n",
    " 32  ABC                        200000 non-null  object  # сегмент клиента по готовности купить\n",
    " 33  city                       13592 non-null   object  # город пользователя\n",
    " 34  country                    12944 non-null   object  # страна пользователя \n",
    " 35  gender                     199940 non-null  float64 # пол\n",
    " 36  speed_recall               21880 non-null   float64 # скорость перезвона клиенту (1 - быстро, 7 - долго)\n",
    " 37  os                         77374 non-null   object  # операционная система пользователя\n",
    " 38  browser                    77374 non-null   object  # название браузера \n",
    " 39  platform                   77361 non-null   object  # платформа\n",
    " 40  m_avg_talk_duration        51537 non-null   float64 # средняя длительность разговора\n",
    " 41  m_avg_duration             45764 non-null   float64 # средняя длительность звонка \n",
    " 42  m_missed_calls             51537 non-null   float64 # кол-во пропущенных звонков\n",
    " 43  m_total_calls              51537 non-null   float64 # всего звонков\n",
    " 44  m_was_conversations        51537 non-null   float64 # кол-во звонков, когда состоялся диалог\n",
    " 45  m_total_duration           51537 non-null   float64 # длительность всего\n",
    " 46  p_avg_talk_duration        16453 non-null   float64\n",
    " 47  p_avg_duration             13488 non-null   float64\n",
    " 48  p_missed_calls             16453 non-null   float64\n",
    " 49  p_total_calls              16453 non-null   float64\n",
    " 50  p_was_conversations        16453 non-null   float64\n",
    " 51  p_total_duration           16453 non-null   float64\n",
    " 52  support_feedback_avg       37557 non-null   float64 # средняя удовлетворенность службой поддержки за год\n",
    " 53  feedback_avg_d1            48496 non-null   float64 # средний балл по курсам направления 1\n",
    " 54  feedback_avg_d2            14805 non-null   float64\n",
    " 55  feedback_avg_d3            17778 non-null   float64\n",
    " 56  feedback_avg_d4            25076 non-null   float64\n",
    " 57  feedback_avg_d5            15733 non-null   float64\n",
    " 58  target                     200000 non-null  int64  \n",
    "``` "
   ]
  },
  {
   "cell_type": "markdown",
   "metadata": {},
   "source": [
    "### Приспособы для one_hot_encoding"
   ]
  },
  {
   "cell_type": "code",
   "execution_count": 404,
   "metadata": {},
   "outputs": [],
   "source": [
    "def convert_to_dict(df):\n",
    "    res = dict()\n",
    "    i = 0\n",
    "    for el in df:\n",
    "        if el == -1:\n",
    "            continue\n",
    "        if el not in res:\n",
    "            res[el] = i\n",
    "            i += 1\n",
    "    return res"
   ]
  },
  {
   "cell_type": "code",
   "execution_count": 405,
   "metadata": {},
   "outputs": [],
   "source": [
    "def simple_one_hot_encoding(df, col_name):\n",
    "    codes = convert_to_dict(df[col_name])\n",
    "        \n",
    "    new_columns = {}\n",
    "    for i in range(len(codes)):\n",
    "        new_columns[col_name+str(i)] = [0 for i in range(len(df))]\n",
    "    new_columns = pd.DataFrame(new_columns, index=df.index)\n",
    "    new_columns = new_columns.astype(np.int8)\n",
    "    df = pd.concat([df, new_columns], axis=1)\n",
    "\n",
    "    for i in range(len(df)):\n",
    "        code = df.iloc[i, df.columns.get_loc(col_name)]\n",
    "        if code != -1:\n",
    "            ccode = codes[code]\n",
    "            df.iloc[i, df.columns.get_loc(col_name+str(ccode))] = 1\n",
    "    return df, codes"
   ]
  },
  {
   "cell_type": "code",
   "execution_count": 406,
   "metadata": {},
   "outputs": [],
   "source": [
    "def digital_convert_to_dict(vmax):\n",
    "    res = dict()\n",
    "    \n",
    "    i = 0\n",
    "    j = 0\n",
    "    while i <= vmax:\n",
    "        if i < 10:\n",
    "            res[j] = i\n",
    "            i += 1\n",
    "            j += 1\n",
    "        elif i < 100:\n",
    "            res[j] = i\n",
    "            i += 10\n",
    "            j += 1\n",
    "        elif i < 1000:\n",
    "            res[j] = i\n",
    "            i += 100\n",
    "            j += 1\n",
    "        elif i < 10000:\n",
    "            res[j] = i\n",
    "            i += 1000\n",
    "            j += 1\n",
    "        elif i < 100000:\n",
    "            res[j] = i\n",
    "            i += 1000\n",
    "            j += 1\n",
    "        elif i < 1000000:\n",
    "            res[j] = i\n",
    "            i += 10000\n",
    "            j += 1\n",
    "    return res"
   ]
  },
  {
   "cell_type": "code",
   "execution_count": 407,
   "metadata": {},
   "outputs": [],
   "source": [
    "def digital_conv(code, codes):\n",
    "    if code == -1:\n",
    "        return None\n",
    "    prev_c = 0\n",
    "    for c in codes:\n",
    "        if code >= codes[c]:\n",
    "            prev_c = c\n",
    "        else:\n",
    "            break\n",
    "    return prev_c"
   ]
  },
  {
   "cell_type": "code",
   "execution_count": 408,
   "metadata": {},
   "outputs": [],
   "source": [
    "def digital_one_hot_encoding(df, col_name):\n",
    "    \n",
    "    vmax = df[col_name].max()\n",
    "    \n",
    "    codes = digital_convert_to_dict(vmax)\n",
    "        \n",
    "    new_columns = {}\n",
    "    for code in range(len(codes)):\n",
    "        new_columns[col_name+str(code)] = [0 for i in range(len(df))]\n",
    "    new_columns = pd.DataFrame(new_columns, index=df.index)\n",
    "    new_columns = new_columns.astype(np.int8)\n",
    "    df = pd.concat([df, new_columns], axis=1)\n",
    "\n",
    "    for i in range(len(df)):\n",
    "        code = df.iloc[i, df.columns.get_loc(col_name)]\n",
    "        ccode = digital_conv(code, codes)\n",
    "        if ccode != None:\n",
    "            df.iloc[i, df.columns.get_loc(col_name+str(ccode))] = 1\n",
    "    return df, codes"
   ]
  },
  {
   "cell_type": "markdown",
   "metadata": {},
   "source": [
    "### анализируем данные"
   ]
  },
  {
   "cell_type": "code",
   "execution_count": 409,
   "metadata": {},
   "outputs": [
    {
     "data": {
      "text/plain": [
       "(-1.0     58326\n",
       "  33.0     5767\n",
       "  25.0     5759\n",
       "  35.0     5742\n",
       "  15.0     5742\n",
       "  21.0     5739\n",
       "  30.0     5737\n",
       "  39.0     5732\n",
       "  2.0      5730\n",
       "  10.0     5727\n",
       "  13.0     5726\n",
       "  4.0      5725\n",
       "  9.0      5724\n",
       "  8.0      5724\n",
       "  28.0     5724\n",
       "  36.0     5723\n",
       "  38.0     5722\n",
       "  1.0      5721\n",
       "  16.0     5715\n",
       "  22.0     5711\n",
       "  31.0     5711\n",
       "  11.0     5711\n",
       "  29.0     5709\n",
       "  32.0     5703\n",
       "  6.0      5701\n",
       "  27.0     5701\n",
       "  12.0     5700\n",
       "  23.0     5699\n",
       "  7.0      5699\n",
       "  19.0     5698\n",
       "  37.0     5689\n",
       "  3.0      5688\n",
       "  17.0     5686\n",
       "  24.0     5676\n",
       "  26.0     5669\n",
       "  14.0     5664\n",
       "  20.0     5652\n",
       "  34.0     5626\n",
       "  5.0      5620\n",
       "  18.0     5232\n",
       "  40.0     4547\n",
       " Name: age_indicator, dtype: int64,\n",
       " 41,\n",
       " 40.0,\n",
       " -1.0)"
      ]
     },
     "execution_count": 409,
     "metadata": {},
     "output_type": "execute_result"
    }
   ],
   "source": [
    "# кандидат на one_hoting_encode\n",
    "d = dfres['age_indicator'].value_counts()\n",
    "l = len(d)\n",
    "rmax = dfres['age_indicator'].max()\n",
    "rmin = dfres['age_indicator'].min()\n",
    "d, l, rmax, rmin"
   ]
  },
  {
   "cell_type": "code",
   "execution_count": 410,
   "metadata": {},
   "outputs": [],
   "source": [
    "dfres, codes_age_indicator = digital_one_hot_encoding(dfres, 'age_indicator')\n",
    "dfres = dfres.drop('age_indicator', axis=1)"
   ]
  },
  {
   "cell_type": "code",
   "execution_count": 411,
   "metadata": {},
   "outputs": [
    {
     "data": {
      "text/plain": [
       "(11/30/2021    34088\n",
       " 10/31/2021    31019\n",
       " 9/30/2021     28439\n",
       " 8/31/2021     25913\n",
       " 7/31/2021     23513\n",
       " 6/30/2021     21552\n",
       " 5/31/2021     19651\n",
       " 4/30/2021     17936\n",
       " 3/31/2021     16170\n",
       " 2/28/2021     14298\n",
       " 1/31/2021     12680\n",
       " 12/31/2020    10857\n",
       " 11/30/2020     8986\n",
       " 10/31/2020     7276\n",
       " 9/30/2020      5792\n",
       " 8/31/2020      3844\n",
       " 7/31/2020      2211\n",
       " 6/30/2020       772\n",
       " Name: month_id, dtype: int64,\n",
       " 18,\n",
       " '9/30/2021',\n",
       " '1/31/2021')"
      ]
     },
     "execution_count": 411,
     "metadata": {},
     "output_type": "execute_result"
    }
   ],
   "source": [
    "# кандидат на one_hoting_encode\n",
    "d = dfres['month_id'].value_counts()\n",
    "l = len(d)\n",
    "rmax = dfres['month_id'].max()\n",
    "rmin = dfres['month_id'].min()\n",
    "d, l, rmax, rmin"
   ]
  },
  {
   "cell_type": "code",
   "execution_count": null,
   "metadata": {},
   "outputs": [],
   "source": [
    "dfres, codes_month_id = simple_one_hot_encoding(dfres, 'month_id')\n",
    "dfres = dfres.drop('month_id', axis=1)"
   ]
  },
  {
   "cell_type": "code",
   "execution_count": null,
   "metadata": {},
   "outputs": [],
   "source": [
    "# кандидат на one_hoting_encode\n",
    "d = dfres['program_id'].value_counts()\n",
    "l = len(d)\n",
    "rmax = dfres['program_id'].max()\n",
    "rmin = dfres['program_id'].min()\n",
    "d, l, rmax, rmin"
   ]
  },
  {
   "cell_type": "code",
   "execution_count": null,
   "metadata": {},
   "outputs": [],
   "source": [
    "dfres, codes_program_id = simple_one_hot_encoding(dfres, 'program_id')\n",
    "dfres = dfres.drop('program_id', axis=1)"
   ]
  },
  {
   "cell_type": "code",
   "execution_count": null,
   "metadata": {},
   "outputs": [],
   "source": [
    "# считаем, что дата создания заявки не очень важна\n",
    "d = dfres['carts_created_at'].value_counts()\n",
    "l = len(d)\n",
    "rmax = dfres['carts_created_at'].max()\n",
    "rmin = dfres['carts_created_at'].min()\n",
    "d, l, rmax, rmin"
   ]
  },
  {
   "cell_type": "code",
   "execution_count": null,
   "metadata": {},
   "outputs": [],
   "source": [
    "dfres, codes_carts_created_at = simple_one_hot_encoding(dfres, 'carts_created_at')\n",
    "dfres = dfres.drop('carts_created_at', axis=1)"
   ]
  },
  {
   "cell_type": "code",
   "execution_count": null,
   "metadata": {},
   "outputs": [],
   "source": [
    "d = dfres['spent_time_total'].value_counts()\n",
    "l = len(d)\n",
    "rmax = dfres['spent_time_total'].max()\n",
    "rmin = dfres['spent_time_total'].min()\n",
    "d, l, rmax, rmin"
   ]
  },
  {
   "cell_type": "code",
   "execution_count": null,
   "metadata": {},
   "outputs": [],
   "source": [
    "dfres, codes_spent_time_total = digital_one_hot_encoding(dfres, 'spent_time_total')\n",
    "dfres = dfres.drop('spent_time_total', axis=1)"
   ]
  },
  {
   "cell_type": "code",
   "execution_count": null,
   "metadata": {},
   "outputs": [],
   "source": [
    "# игнорим\n",
    "d = dfres['spent_time_to_complete_hw'].value_counts()\n",
    "l = len(d)\n",
    "rmax = dfres['spent_time_to_complete_hw'].max()\n",
    "rmin = dfres['spent_time_to_complete_hw'].min()\n",
    "d, l, rmax, rmin"
   ]
  },
  {
   "cell_type": "code",
   "execution_count": null,
   "metadata": {},
   "outputs": [],
   "source": [
    "#dfres, codes_program_id = digital_one_hot_encoding(dfres, 'spent_time_to_complete_hw')\n",
    "dfres = dfres.drop('spent_time_to_complete_hw', axis=1)"
   ]
  },
  {
   "cell_type": "code",
   "execution_count": null,
   "metadata": {},
   "outputs": [],
   "source": [
    "# кандидат на one_hoting_encode\n",
    "d = dfres['completed_hw'].value_counts()\n",
    "l = len(d)\n",
    "rmax = dfres['completed_hw'].max()\n",
    "rmin = dfres['completed_hw'].min()\n",
    "d, l, rmax, rmin"
   ]
  },
  {
   "cell_type": "code",
   "execution_count": null,
   "metadata": {},
   "outputs": [],
   "source": [
    "dfres, codes_completed_hw = digital_one_hot_encoding(dfres, 'completed_hw')\n",
    "dfres = dfres.drop('completed_hw', axis=1)"
   ]
  },
  {
   "cell_type": "code",
   "execution_count": null,
   "metadata": {},
   "outputs": [],
   "source": [
    "# разобьем на шаги по 10\n",
    "d = dfres['failed_hw'].value_counts()\n",
    "l = len(d)\n",
    "rmax = dfres['failed_hw'].max()\n",
    "rmin = dfres['failed_hw'].min()\n",
    "d, l, rmax, rmin"
   ]
  },
  {
   "cell_type": "code",
   "execution_count": null,
   "metadata": {},
   "outputs": [],
   "source": [
    "dfres, codes_failed_hw = digital_one_hot_encoding(dfres, 'failed_hw')\n",
    "dfres = dfres.drop('failed_hw', axis=1)"
   ]
  },
  {
   "cell_type": "code",
   "execution_count": null,
   "metadata": {},
   "outputs": [],
   "source": [
    "# разобьем на шаги по 10\n",
    "d = dfres['reworked_hw'].value_counts()\n",
    "l = len(d)\n",
    "rmax = dfres['reworked_hw'].max()\n",
    "rmin = dfres['reworked_hw'].min()\n",
    "d, l, rmax, rmin"
   ]
  },
  {
   "cell_type": "code",
   "execution_count": null,
   "metadata": {},
   "outputs": [],
   "source": [
    "dfres, codes_reworked_hw = digital_one_hot_encoding(dfres, 'reworked_hw')\n",
    "dfres = dfres.drop('reworked_hw', axis=1)"
   ]
  },
  {
   "cell_type": "code",
   "execution_count": null,
   "metadata": {},
   "outputs": [],
   "source": [
    "#с шагом 1\n",
    "d = dfres['interacted_hw'].value_counts()\n",
    "l = len(d)\n",
    "rmax = dfres['interacted_hw'].max()\n",
    "rmin = dfres['interacted_hw'].min()\n",
    "d, l, rmax, rmin"
   ]
  },
  {
   "cell_type": "code",
   "execution_count": null,
   "metadata": {},
   "outputs": [],
   "source": [
    "dfres, codes_interacted_hw = digital_one_hot_encoding(dfres, 'interacted_hw')\n",
    "dfres = dfres.drop('interacted_hw', axis=1)"
   ]
  },
  {
   "cell_type": "code",
   "execution_count": null,
   "metadata": {},
   "outputs": [],
   "source": [
    "#c шагом 10, max=100\n",
    "d = dfres['avg_hw_mark'].value_counts()\n",
    "l = len(d)\n",
    "rmax = dfres['avg_hw_mark'].max()\n",
    "rmin = dfres['avg_hw_mark'].min()\n",
    "d, l, rmax, rmin"
   ]
  },
  {
   "cell_type": "code",
   "execution_count": null,
   "metadata": {},
   "outputs": [],
   "source": [
    "dfres, codes_avg_hw_mark = digital_one_hot_encoding(dfres, 'avg_hw_mark')\n",
    "dfres = dfres.drop('avg_hw_mark', axis=1)"
   ]
  },
  {
   "cell_type": "code",
   "execution_count": null,
   "metadata": {},
   "outputs": [],
   "source": [
    "# с шагом 10\n",
    "d = dfres['test_with_good_mark'].value_counts()\n",
    "l = len(d)\n",
    "rmax = dfres['test_with_good_mark'].max()\n",
    "rmin = dfres['test_with_good_mark'].min()\n",
    "d, l, rmax, rmin"
   ]
  },
  {
   "cell_type": "code",
   "execution_count": null,
   "metadata": {},
   "outputs": [],
   "source": [
    "dfres, codes_test_with_good_mark = digital_one_hot_encoding(dfres, 'test_with_good_mark')\n",
    "dfres = dfres.drop('test_with_good_mark', axis=1)"
   ]
  },
  {
   "cell_type": "code",
   "execution_count": null,
   "metadata": {},
   "outputs": [],
   "source": [
    "# с шагом 10\n",
    "d = dfres['test_with_great_mark'].value_counts()\n",
    "l = len(d)\n",
    "rmax = dfres['test_with_great_mark'].max()\n",
    "rmin = dfres['test_with_great_mark'].min()\n",
    "d, l, rmax, rmin"
   ]
  },
  {
   "cell_type": "code",
   "execution_count": null,
   "metadata": {},
   "outputs": [],
   "source": [
    "dfres, codes_test_with_great_mark = digital_one_hot_encoding(dfres, 'test_with_great_mark')\n",
    "dfres = dfres.drop('test_with_great_mark', axis=1)"
   ]
  },
  {
   "cell_type": "code",
   "execution_count": null,
   "metadata": {},
   "outputs": [],
   "source": [
    "# с шагом 10\n",
    "d = dfres['webinars'].value_counts()\n",
    "l = len(d)\n",
    "rmax = dfres['webinars'].max()\n",
    "rmin = dfres['webinars'].min()\n",
    "d, l, rmax, rmin"
   ]
  },
  {
   "cell_type": "code",
   "execution_count": null,
   "metadata": {},
   "outputs": [],
   "source": [
    "dfres, codes_webinars = digital_one_hot_encoding(dfres, 'webinars')\n",
    "dfres = dfres.drop('webinars', axis=1)"
   ]
  },
  {
   "cell_type": "code",
   "execution_count": null,
   "metadata": {},
   "outputs": [],
   "source": [
    "d = dfres['avg_quiz_result'].value_counts()\n",
    "l = len(d)\n",
    "rmax = dfres['avg_quiz_result'].max()\n",
    "rmin = dfres['avg_quiz_result'].min()\n",
    "d, l, rmax, rmin"
   ]
  },
  {
   "cell_type": "code",
   "execution_count": null,
   "metadata": {},
   "outputs": [],
   "source": [
    "dfres, codes_avg_quiz_result = digital_one_hot_encoding(dfres, 'avg_quiz_result')\n",
    "dfres = dfres.drop('avg_quiz_result', axis=1)"
   ]
  },
  {
   "cell_type": "code",
   "execution_count": null,
   "metadata": {},
   "outputs": [],
   "source": [
    "# с шагом 100\n",
    "d = dfres['notes'].value_counts()\n",
    "l = len(d)\n",
    "rmax = dfres['notes'].max()\n",
    "rmin = dfres['notes'].min()\n",
    "d, l, rmax, rmin"
   ]
  },
  {
   "cell_type": "code",
   "execution_count": null,
   "metadata": {},
   "outputs": [],
   "source": [
    "dfres, codes_notes = digital_one_hot_encoding(dfres, 'notes')\n",
    "dfres = dfres.drop('notes', axis=1)"
   ]
  },
  {
   "cell_type": "code",
   "execution_count": null,
   "metadata": {},
   "outputs": [],
   "source": [
    "# С шагом 10\n",
    "d = dfres['hw_leader'].value_counts()\n",
    "l = len(d)\n",
    "rmax = dfres['hw_leader'].max()\n",
    "rmin = dfres['hw_leader'].min()\n",
    "d, l, rmax, rmin"
   ]
  },
  {
   "cell_type": "code",
   "execution_count": null,
   "metadata": {},
   "outputs": [],
   "source": [
    "dfres, codes_hw_leader = digital_one_hot_encoding(dfres, 'hw_leader')\n",
    "dfres = dfres.drop('hw_leader', axis=1)"
   ]
  },
  {
   "cell_type": "code",
   "execution_count": null,
   "metadata": {},
   "outputs": [],
   "source": [
    "d = dfres['lessons'].value_counts()\n",
    "l = len(d)\n",
    "rmax = dfres['lessons'].max()\n",
    "rmin = dfres['lessons'].min()\n",
    "d, l, rmax, rmin"
   ]
  },
  {
   "cell_type": "code",
   "execution_count": null,
   "metadata": {},
   "outputs": [],
   "source": [
    "dfres, codes_lessons = digital_one_hot_encoding(dfres, 'lessons')\n",
    "dfres = dfres.drop('lessons', axis=1)"
   ]
  },
  {
   "cell_type": "code",
   "execution_count": null,
   "metadata": {},
   "outputs": [],
   "source": [
    "d = dfres['activity'].value_counts()\n",
    "l = len(d)\n",
    "rmax = dfres['activity'].max()\n",
    "rmin = dfres['activity'].min()\n",
    "d, l, rmax, rmin"
   ]
  },
  {
   "cell_type": "code",
   "execution_count": null,
   "metadata": {},
   "outputs": [],
   "source": [
    "dfres, codes_activity = digital_one_hot_encoding(dfres, 'activity')\n",
    "dfres = dfres.drop('activity', axis=1)"
   ]
  },
  {
   "cell_type": "code",
   "execution_count": null,
   "metadata": {},
   "outputs": [],
   "source": [
    "d = dfres['bought_d1'].value_counts()\n",
    "l = len(d)\n",
    "rmax = dfres['bought_d1'].max()\n",
    "rmin = dfres['bought_d1'].min()\n",
    "d, l, rmax, rmin"
   ]
  },
  {
   "cell_type": "code",
   "execution_count": null,
   "metadata": {},
   "outputs": [],
   "source": [
    "dfres, codes_bought_d1 = digital_one_hot_encoding(dfres, 'bought_d1')\n",
    "dfres = dfres.drop('bought_d1', axis=1)"
   ]
  },
  {
   "cell_type": "code",
   "execution_count": null,
   "metadata": {},
   "outputs": [],
   "source": [
    "d = dfres['bought_d2'].value_counts()\n",
    "l = len(d)\n",
    "rmax = dfres['bought_d2'].max()\n",
    "rmin = dfres['bought_d2'].min()\n",
    "d, l, rmax, rmin"
   ]
  },
  {
   "cell_type": "code",
   "execution_count": null,
   "metadata": {},
   "outputs": [],
   "source": [
    "dfres, codes_bought_d2 = digital_one_hot_encoding(dfres, 'bought_d2')\n",
    "dfres = dfres.drop('bought_d2', axis=1)"
   ]
  },
  {
   "cell_type": "code",
   "execution_count": null,
   "metadata": {},
   "outputs": [],
   "source": [
    "d = dfres['bought_d3'].value_counts()\n",
    "l = len(d)\n",
    "rmax = dfres['bought_d3'].max()\n",
    "rmin = dfres['bought_d3'].min()\n",
    "d, l, rmax, rmin"
   ]
  },
  {
   "cell_type": "code",
   "execution_count": null,
   "metadata": {},
   "outputs": [],
   "source": [
    "dfres, codes_bought_d3 = digital_one_hot_encoding(dfres, 'bought_d3')\n",
    "dfres = dfres.drop('bought_d3', axis=1)"
   ]
  },
  {
   "cell_type": "code",
   "execution_count": null,
   "metadata": {},
   "outputs": [],
   "source": [
    "d = dfres['bought_d4'].value_counts()\n",
    "l = len(d)\n",
    "rmax = dfres['bought_d4'].max()\n",
    "rmin = dfres['bought_d4'].min()\n",
    "d, l, rmax, rmin"
   ]
  },
  {
   "cell_type": "code",
   "execution_count": null,
   "metadata": {},
   "outputs": [],
   "source": [
    "dfres, codes_bought_d4 = digital_one_hot_encoding(dfres, 'bought_d4')\n",
    "dfres = dfres.drop('bought_d4', axis=1)"
   ]
  },
  {
   "cell_type": "code",
   "execution_count": null,
   "metadata": {},
   "outputs": [],
   "source": [
    "d = dfres['bought_d5'].value_counts()\n",
    "l = len(d)\n",
    "rmax = dfres['bought_d5'].max()\n",
    "rmin = dfres['bought_d5'].min()\n",
    "d, l, rmax, rmin"
   ]
  },
  {
   "cell_type": "code",
   "execution_count": null,
   "metadata": {},
   "outputs": [],
   "source": [
    "dfres, codes_bought_d5 = digital_one_hot_encoding(dfres, 'bought_d5')\n",
    "dfres = dfres.drop('bought_d5', axis=1)"
   ]
  },
  {
   "cell_type": "code",
   "execution_count": null,
   "metadata": {},
   "outputs": [],
   "source": [
    "d = dfres['bought_avg_duration'].value_counts()\n",
    "l = len(d)\n",
    "rmax = dfres['bought_avg_duration'].max()\n",
    "rmin = dfres['bought_avg_duration'].min()\n",
    "d, l, rmax, rmin"
   ]
  },
  {
   "cell_type": "code",
   "execution_count": null,
   "metadata": {},
   "outputs": [],
   "source": [
    "dfres, codes_bought_avg_duration = digital_one_hot_encoding(dfres, 'bought_avg_duration')\n",
    "dfres = dfres.drop('bought_avg_duration', axis=1)"
   ]
  },
  {
   "cell_type": "code",
   "execution_count": null,
   "metadata": {},
   "outputs": [],
   "source": [
    "d = dfres['payment_type'].value_counts()\n",
    "l = len(d)\n",
    "rmax = dfres['payment_type'].max()\n",
    "rmin = dfres['payment_type'].min()\n",
    "d, l, rmax, rmin"
   ]
  },
  {
   "cell_type": "code",
   "execution_count": null,
   "metadata": {},
   "outputs": [],
   "source": [
    "dfres, codes_payment_type = simple_one_hot_encoding(dfres, 'payment_type')\n",
    "dfres = dfres.drop('payment_type', axis=1)"
   ]
  },
  {
   "cell_type": "code",
   "execution_count": null,
   "metadata": {},
   "outputs": [],
   "source": [
    "d = dfres['promo'].value_counts()\n",
    "l = len(d)\n",
    "rmax = dfres['promo'].max()\n",
    "rmin = dfres['promo'].min()\n",
    "d, l, rmax, rmin"
   ]
  },
  {
   "cell_type": "code",
   "execution_count": null,
   "metadata": {},
   "outputs": [],
   "source": [
    "dfres, codes_promo = simple_one_hot_encoding(dfres, 'promo')\n",
    "dfres = dfres.drop('promo', axis=1)"
   ]
  },
  {
   "cell_type": "code",
   "execution_count": null,
   "metadata": {},
   "outputs": [],
   "source": [
    "d = dfres['price'].value_counts()\n",
    "l = len(d)\n",
    "rmax = dfres['price'].max()\n",
    "rmin = dfres['price'].min()\n",
    "d, l, rmax, rmin"
   ]
  },
  {
   "cell_type": "code",
   "execution_count": null,
   "metadata": {},
   "outputs": [],
   "source": [
    "dfres, codes_price = digital_one_hot_encoding(dfres, 'price')\n",
    "dfres = dfres.drop('price', axis=1)"
   ]
  },
  {
   "cell_type": "code",
   "execution_count": null,
   "metadata": {},
   "outputs": [],
   "source": [
    "d = dfres['communication_type'].value_counts()\n",
    "l = len(d)\n",
    "#rmax = dfres['communication_type'].max()\n",
    "#rmin = dfres['communication_type'].min()\n",
    "d, l, #rmax, rmin"
   ]
  },
  {
   "cell_type": "code",
   "execution_count": null,
   "metadata": {},
   "outputs": [],
   "source": [
    "dfres, codes_communication_type = simple_one_hot_encoding(dfres, 'communication_type')\n",
    "dfres = dfres.drop('communication_type', axis=1)"
   ]
  },
  {
   "cell_type": "code",
   "execution_count": null,
   "metadata": {},
   "outputs": [],
   "source": [
    "d = dfres['auto_payment'].value_counts()\n",
    "l = len(d)\n",
    "d, l, #rmax, rmin"
   ]
  },
  {
   "cell_type": "code",
   "execution_count": null,
   "metadata": {},
   "outputs": [],
   "source": [
    "dfres, codes_auto_payment = simple_one_hot_encoding(dfres, 'auto_payment')\n",
    "dfres = dfres.drop('auto_payment', axis=1)"
   ]
  },
  {
   "cell_type": "code",
   "execution_count": null,
   "metadata": {},
   "outputs": [],
   "source": [
    "d = dfres['ABC'].value_counts()\n",
    "l = len(d)\n",
    "d, l"
   ]
  },
  {
   "cell_type": "code",
   "execution_count": null,
   "metadata": {},
   "outputs": [],
   "source": [
    "dfres, codes_ABC = simple_one_hot_encoding(dfres, 'ABC')\n",
    "dfres = dfres.drop('ABC', axis=1)"
   ]
  },
  {
   "cell_type": "code",
   "execution_count": null,
   "metadata": {},
   "outputs": [],
   "source": [
    "d = dfres['city'].value_counts()\n",
    "l = len(d)\n",
    "d, l"
   ]
  },
  {
   "cell_type": "code",
   "execution_count": null,
   "metadata": {},
   "outputs": [],
   "source": [
    "dfres, codes_city = simple_one_hot_encoding(dfres, 'city')\n",
    "dfres = dfres.drop('city', axis=1)"
   ]
  },
  {
   "cell_type": "code",
   "execution_count": null,
   "metadata": {},
   "outputs": [],
   "source": [
    "d = dfres['country'].value_counts()\n",
    "l = len(d)\n",
    "#rmax = dfres['price'].max()\n",
    "#rmin = dfres['price'].min()\n",
    "d, l, #rmax, rmin"
   ]
  },
  {
   "cell_type": "code",
   "execution_count": null,
   "metadata": {},
   "outputs": [],
   "source": [
    "dfres, codes_country = simple_one_hot_encoding(dfres, 'country')\n",
    "dfres = dfres.drop('country', axis=1)"
   ]
  },
  {
   "cell_type": "code",
   "execution_count": null,
   "metadata": {},
   "outputs": [],
   "source": [
    "d = dfres['gender'].value_counts()\n",
    "l = len(d)\n",
    "rmax = dfres['gender'].max()\n",
    "rmin = dfres['gender'].min()\n",
    "d, l, #rmax, rmin"
   ]
  },
  {
   "cell_type": "code",
   "execution_count": null,
   "metadata": {},
   "outputs": [],
   "source": [
    "dfres, codes_gender = simple_one_hot_encoding(dfres, 'gender')\n",
    "dfres = dfres.drop('gender', axis=1)"
   ]
  },
  {
   "cell_type": "code",
   "execution_count": null,
   "metadata": {},
   "outputs": [],
   "source": [
    "d = dfres['speed_recall'].value_counts()\n",
    "l = len(d)\n",
    "rmax = dfres['speed_recall'].max()\n",
    "rmin = dfres['speed_recall'].min()\n",
    "d, l, rmax, rmin"
   ]
  },
  {
   "cell_type": "code",
   "execution_count": null,
   "metadata": {},
   "outputs": [],
   "source": [
    "dfres, codes_speed_recall = digital_one_hot_encoding(dfres, 'speed_recall')\n",
    "dfres = dfres.drop('speed_recall', axis=1)"
   ]
  },
  {
   "cell_type": "code",
   "execution_count": null,
   "metadata": {},
   "outputs": [],
   "source": [
    "d = dfres['os'].value_counts()\n",
    "l = len(d)\n",
    "d, l"
   ]
  },
  {
   "cell_type": "code",
   "execution_count": null,
   "metadata": {},
   "outputs": [],
   "source": [
    "dfres, codes_os = simple_one_hot_encoding(dfres, 'os')\n",
    "dfres = dfres.drop('os', axis=1)"
   ]
  },
  {
   "cell_type": "code",
   "execution_count": null,
   "metadata": {},
   "outputs": [],
   "source": [
    "d = dfres['browser'].value_counts()\n",
    "l = len(d)\n",
    "d, l"
   ]
  },
  {
   "cell_type": "code",
   "execution_count": null,
   "metadata": {},
   "outputs": [],
   "source": [
    "dfres, codes_browser = simple_one_hot_encoding(dfres, 'browser')\n",
    "dfres = dfres.drop('browser', axis=1)"
   ]
  },
  {
   "cell_type": "code",
   "execution_count": null,
   "metadata": {},
   "outputs": [],
   "source": [
    "d = dfres['platform'].value_counts()\n",
    "l = len(d)\n",
    "d, l"
   ]
  },
  {
   "cell_type": "code",
   "execution_count": null,
   "metadata": {},
   "outputs": [],
   "source": [
    "dfres, codes_platform = simple_one_hot_encoding(dfres, 'platform')\n",
    "dfres = dfres.drop('platform', axis=1)"
   ]
  },
  {
   "cell_type": "code",
   "execution_count": null,
   "metadata": {},
   "outputs": [],
   "source": [
    "d = dfres['m_avg_talk_duration'].value_counts()\n",
    "l = len(d)\n",
    "rmax = dfres['m_avg_talk_duration'].max()\n",
    "rmin = dfres['m_avg_talk_duration'].min()\n",
    "d, l, rmax, rmin"
   ]
  },
  {
   "cell_type": "code",
   "execution_count": null,
   "metadata": {},
   "outputs": [],
   "source": [
    "dfres, codes_m_avg_talk_duration = digital_one_hot_encoding(dfres, 'm_avg_talk_duration')\n",
    "dfres = dfres.drop('m_avg_talk_duration', axis=1)"
   ]
  },
  {
   "cell_type": "code",
   "execution_count": null,
   "metadata": {},
   "outputs": [],
   "source": [
    "d = dfres['p_avg_talk_duration'].value_counts()\n",
    "l = len(d)\n",
    "rmax = dfres['p_avg_talk_duration'].max()\n",
    "rmin = dfres['p_avg_talk_duration'].min()\n",
    "d, l, rmax, rmin"
   ]
  },
  {
   "cell_type": "code",
   "execution_count": null,
   "metadata": {},
   "outputs": [],
   "source": [
    "dfres, codes_p_avg_talk_duration = digital_one_hot_encoding(dfres, 'p_avg_talk_duration')\n",
    "dfres = dfres.drop('p_avg_talk_duration', axis=1)"
   ]
  },
  {
   "cell_type": "code",
   "execution_count": null,
   "metadata": {},
   "outputs": [],
   "source": [
    "d = dfres['m_avg_duration'].value_counts()\n",
    "l = len(d)\n",
    "rmax = dfres['m_avg_duration'].max()\n",
    "rmin = dfres['m_avg_duration'].min()\n",
    "d, l, rmax, rmin"
   ]
  },
  {
   "cell_type": "code",
   "execution_count": null,
   "metadata": {},
   "outputs": [],
   "source": [
    "dfres, codes_m_avg_duration = digital_one_hot_encoding(dfres, 'm_avg_duration')\n",
    "dfres = dfres.drop('m_avg_duration', axis=1)"
   ]
  },
  {
   "cell_type": "code",
   "execution_count": null,
   "metadata": {},
   "outputs": [],
   "source": [
    "dfres, codes_p_avg_duration = digital_one_hot_encoding(dfres, 'p_avg_duration')\n",
    "dfres = dfres.drop('p_avg_duration', axis=1)"
   ]
  },
  {
   "cell_type": "code",
   "execution_count": null,
   "metadata": {},
   "outputs": [],
   "source": [
    "d = dfres['m_missed_calls'].value_counts()\n",
    "l = len(d)\n",
    "rmax = dfres['m_missed_calls'].max()\n",
    "rmin = dfres['m_missed_calls'].min()\n",
    "d, l, rmax, rmin"
   ]
  },
  {
   "cell_type": "code",
   "execution_count": null,
   "metadata": {},
   "outputs": [],
   "source": [
    "dfres, codes_m_missed_calls = digital_one_hot_encoding(dfres, 'm_missed_calls')\n",
    "dfres = dfres.drop('m_missed_calls', axis=1)"
   ]
  },
  {
   "cell_type": "code",
   "execution_count": null,
   "metadata": {},
   "outputs": [],
   "source": [
    "d = dfres['p_missed_calls'].value_counts()\n",
    "l = len(d)\n",
    "rmax = dfres['p_missed_calls'].max()\n",
    "rmin = dfres['p_missed_calls'].min()\n",
    "d, l, rmax, rmin"
   ]
  },
  {
   "cell_type": "code",
   "execution_count": null,
   "metadata": {},
   "outputs": [],
   "source": [
    "dfres, codes_p_missed_calls = digital_one_hot_encoding(dfres, 'p_missed_calls')\n",
    "dfres = dfres.drop('p_missed_calls', axis=1)"
   ]
  },
  {
   "cell_type": "code",
   "execution_count": null,
   "metadata": {},
   "outputs": [],
   "source": [
    "d = dfres['m_total_calls'].value_counts()\n",
    "l = len(d)\n",
    "rmax = dfres['m_total_calls'].max()\n",
    "rmin = dfres['m_total_calls'].min()\n",
    "d, l, rmax, rmin"
   ]
  },
  {
   "cell_type": "code",
   "execution_count": null,
   "metadata": {},
   "outputs": [],
   "source": [
    "dfres, codes_m_total_calls = digital_one_hot_encoding(dfres, 'm_total_calls')\n",
    "dfres = dfres.drop('m_total_calls', axis=1)"
   ]
  },
  {
   "cell_type": "code",
   "execution_count": null,
   "metadata": {},
   "outputs": [],
   "source": [
    "d = dfres['p_total_calls'].value_counts()\n",
    "l = len(d)\n",
    "rmax = dfres['p_total_calls'].max()\n",
    "rmin = dfres['p_total_calls'].min()\n",
    "d, l, rmax, rmin"
   ]
  },
  {
   "cell_type": "code",
   "execution_count": null,
   "metadata": {},
   "outputs": [],
   "source": [
    "dfres, codes_p_total_calls = digital_one_hot_encoding(dfres, 'p_total_calls')\n",
    "dfres = dfres.drop('p_total_calls', axis=1)"
   ]
  },
  {
   "cell_type": "code",
   "execution_count": null,
   "metadata": {},
   "outputs": [],
   "source": [
    "d = dfres['m_was_conversations'].value_counts()\n",
    "l = len(d)\n",
    "rmax = dfres['m_was_conversations'].max()\n",
    "rmin = dfres['m_was_conversations'].min()\n",
    "d, l, rmax, rmin"
   ]
  },
  {
   "cell_type": "code",
   "execution_count": null,
   "metadata": {},
   "outputs": [],
   "source": [
    "dfres, codes_m_was_conversations = digital_one_hot_encoding(dfres, 'm_was_conversations')\n",
    "dfres = dfres.drop('m_was_conversations', axis=1)"
   ]
  },
  {
   "cell_type": "code",
   "execution_count": null,
   "metadata": {},
   "outputs": [],
   "source": [
    "d = dfres['p_was_conversations'].value_counts()\n",
    "l = len(d)\n",
    "rmax = dfres['p_was_conversations'].max()\n",
    "rmin = dfres['p_was_conversations'].min()\n",
    "d, l, rmax, rmin"
   ]
  },
  {
   "cell_type": "code",
   "execution_count": null,
   "metadata": {},
   "outputs": [],
   "source": [
    "dfres, codes_p_was_conversations = digital_one_hot_encoding(dfres, 'p_was_conversations')\n",
    "dfres = dfres.drop('p_was_conversations', axis=1)"
   ]
  },
  {
   "cell_type": "code",
   "execution_count": null,
   "metadata": {},
   "outputs": [],
   "source": [
    "d = dfres['m_total_duration'].value_counts()\n",
    "l = len(d)\n",
    "rmax = dfres['m_total_duration'].max()\n",
    "rmin = dfres['m_total_duration'].min()\n",
    "d, l, rmax, rmin"
   ]
  },
  {
   "cell_type": "code",
   "execution_count": null,
   "metadata": {},
   "outputs": [],
   "source": [
    "dfres, codes_m_total_duration = digital_one_hot_encoding(dfres, 'm_total_duration')\n",
    "dfres = dfres.drop('m_total_duration', axis=1)"
   ]
  },
  {
   "cell_type": "code",
   "execution_count": null,
   "metadata": {},
   "outputs": [],
   "source": [
    "d = dfres['p_total_duration'].value_counts()\n",
    "l = len(d)\n",
    "rmax = dfres['p_total_duration'].max()\n",
    "rmin = dfres['p_total_duration'].min()\n",
    "d, l, rmax, rmin"
   ]
  },
  {
   "cell_type": "code",
   "execution_count": null,
   "metadata": {},
   "outputs": [],
   "source": [
    "dfres, codes_p_total_duration = digital_one_hot_encoding(dfres, 'p_total_duration')\n",
    "dfres = dfres.drop('p_total_duration', axis=1)"
   ]
  },
  {
   "cell_type": "code",
   "execution_count": null,
   "metadata": {},
   "outputs": [],
   "source": [
    "d = dfres['support_feedback_avg'].value_counts()\n",
    "l = len(d)\n",
    "rmax = dfres['support_feedback_avg'].max()\n",
    "rmin = dfres['support_feedback_avg'].min()\n",
    "d, l, rmax, rmin"
   ]
  },
  {
   "cell_type": "code",
   "execution_count": null,
   "metadata": {},
   "outputs": [],
   "source": [
    "dfres, codes_support_feedback_avg = digital_one_hot_encoding(dfres, 'support_feedback_avg')\n",
    "dfres = dfres.drop('support_feedback_avg', axis=1)"
   ]
  },
  {
   "cell_type": "code",
   "execution_count": null,
   "metadata": {},
   "outputs": [],
   "source": [
    "d = dfres['feedback_avg_d1'].value_counts()\n",
    "l = len(d)\n",
    "rmax = dfres['feedback_avg_d1'].max()\n",
    "rmin = dfres['feedback_avg_d1'].min()\n",
    "d, l, rmax, rmin"
   ]
  },
  {
   "cell_type": "code",
   "execution_count": null,
   "metadata": {},
   "outputs": [],
   "source": [
    "dfres, codes_feedback_avg_d1 = digital_one_hot_encoding(dfres, 'feedback_avg_d1')\n",
    "dfres = dfres.drop('feedback_avg_d1', axis=1)"
   ]
  },
  {
   "cell_type": "code",
   "execution_count": null,
   "metadata": {},
   "outputs": [],
   "source": [
    "d = dfres['feedback_avg_d2'].value_counts()\n",
    "l = len(d)\n",
    "rmax = dfres['feedback_avg_d2'].max()\n",
    "rmin = dfres['feedback_avg_d2'].min()\n",
    "d, l, rmax, rmin"
   ]
  },
  {
   "cell_type": "code",
   "execution_count": null,
   "metadata": {},
   "outputs": [],
   "source": [
    "dfres, codes_feedback_avg_d2 = digital_one_hot_encoding(dfres, 'feedback_avg_d2')\n",
    "dfres = dfres.drop('feedback_avg_d2', axis=1)"
   ]
  },
  {
   "cell_type": "code",
   "execution_count": null,
   "metadata": {},
   "outputs": [],
   "source": [
    "d = dfres['feedback_avg_d3'].value_counts()\n",
    "l = len(d)\n",
    "rmax = dfres['feedback_avg_d3'].max()\n",
    "rmin = dfres['feedback_avg_d3'].min()\n",
    "d, l, rmax, rmin"
   ]
  },
  {
   "cell_type": "code",
   "execution_count": null,
   "metadata": {},
   "outputs": [],
   "source": [
    "dfres, codes_feedback_avg_d3 = digital_one_hot_encoding(dfres, 'feedback_avg_d3')\n",
    "dfres = dfres.drop('feedback_avg_d3', axis=1)"
   ]
  },
  {
   "cell_type": "code",
   "execution_count": null,
   "metadata": {},
   "outputs": [],
   "source": [
    "d = dfres['feedback_avg_d4'].value_counts()\n",
    "l = len(d)\n",
    "rmax = dfres['feedback_avg_d4'].max()\n",
    "rmin = dfres['feedback_avg_d4'].min()\n",
    "d, l, rmax, rmin"
   ]
  },
  {
   "cell_type": "code",
   "execution_count": null,
   "metadata": {},
   "outputs": [],
   "source": [
    "dfres, codes_feedback_avg_d4 = digital_one_hot_encoding(dfres, 'feedback_avg_d4')\n",
    "dfres = dfres.drop('feedback_avg_d4', axis=1)"
   ]
  },
  {
   "cell_type": "code",
   "execution_count": null,
   "metadata": {},
   "outputs": [],
   "source": [
    "d = dfres['feedback_avg_d5'].value_counts()\n",
    "l = len(d)\n",
    "rmax = dfres['feedback_avg_d5'].max()\n",
    "rmin = dfres['feedback_avg_d5'].min()\n",
    "d, l, rmax, rmin"
   ]
  },
  {
   "cell_type": "code",
   "execution_count": null,
   "metadata": {},
   "outputs": [],
   "source": [
    "dfres, codes_feedback_avg_d5 = digital_one_hot_encoding(dfres, 'feedback_avg_d5')\n",
    "dfres = dfres.drop('feedback_avg_d5', axis=1)"
   ]
  },
  {
   "cell_type": "code",
   "execution_count": null,
   "metadata": {},
   "outputs": [],
   "source": [
    "dfres.to_csv(\"RSF_dfres.csv\", index=True)"
   ]
  },
  {
   "cell_type": "code",
   "execution_count": null,
   "metadata": {},
   "outputs": [],
   "source": [
    "dfres.info()"
   ]
  },
  {
   "cell_type": "code",
   "execution_count": null,
   "metadata": {},
   "outputs": [],
   "source": [
    "dfres, codes_target = simple_one_hot_encoding(dfres, 'target')"
   ]
  },
  {
   "cell_type": "code",
   "execution_count": null,
   "metadata": {},
   "outputs": [],
   "source": [
    "dfres = dfres.drop('target', axis=1)"
   ]
  },
  {
   "cell_type": "code",
   "execution_count": null,
   "metadata": {},
   "outputs": [],
   "source": [
    "dfres.head()"
   ]
  },
  {
   "cell_type": "markdown",
   "metadata": {},
   "source": [
    "### Разбиваем обратно набор на обучающий и тестовый"
   ]
  },
  {
   "cell_type": "code",
   "execution_count": null,
   "metadata": {},
   "outputs": [],
   "source": [
    "def split_back(df, len_df):\n",
    "    #features = df.iloc[:, 0:5] + df.iloc[:,11:]\n",
    "    df1 = df.iloc[:len_df, :]\n",
    "    df2 = df.iloc[len_df:, :]\n",
    "    return df1, df2"
   ]
  },
  {
   "cell_type": "code",
   "execution_count": null,
   "metadata": {},
   "outputs": [],
   "source": [
    "data_df, test_df = split_back(dfres, len_df)"
   ]
  },
  {
   "cell_type": "code",
   "execution_count": null,
   "metadata": {},
   "outputs": [],
   "source": []
  },
  {
   "cell_type": "code",
   "execution_count": null,
   "metadata": {},
   "outputs": [],
   "source": []
  },
  {
   "cell_type": "code",
   "execution_count": null,
   "metadata": {},
   "outputs": [],
   "source": []
  },
  {
   "cell_type": "code",
   "execution_count": null,
   "metadata": {},
   "outputs": [],
   "source": []
  }
 ],
 "metadata": {
  "colab": {
   "collapsed_sections": [],
   "name": "Нетология_baseline.ipynb",
   "provenance": []
  },
  "kernelspec": {
   "display_name": "hack_ai_env",
   "language": "python",
   "name": "hack_ai_env"
  },
  "language_info": {
   "codemirror_mode": {
    "name": "ipython",
    "version": 3
   },
   "file_extension": ".py",
   "mimetype": "text/x-python",
   "name": "python",
   "nbconvert_exporter": "python",
   "pygments_lexer": "ipython3",
   "version": "3.10.4"
  }
 },
 "nbformat": 4,
 "nbformat_minor": 1
}
