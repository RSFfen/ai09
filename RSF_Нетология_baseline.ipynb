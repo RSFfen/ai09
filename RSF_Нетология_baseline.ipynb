{
 "cells": [
  {
   "cell_type": "markdown",
   "metadata": {},
   "source": [
    "# Предсказание покупки следующего курса"
   ]
  },
  {
   "cell_type": "markdown",
   "metadata": {},
   "source": [
    "### Загрузим необходимые библиотеки"
   ]
  },
  {
   "cell_type": "code",
   "execution_count": 4,
   "metadata": {
    "id": "MTgpe_1quUDs"
   },
   "outputs": [],
   "source": [
    "%matplotlib inline\n",
    "import numpy as np\n",
    "import pandas as pd\n",
    "#import seaborn as sns\n",
    "import matplotlib.pyplot as plt\n",
    "from sklearn.model_selection import train_test_split\n",
    "from sklearn.ensemble import RandomForestClassifier\n",
    "\n",
    "import torch\n",
    "import torch.nn as nn\n",
    "import torch.optim as optim\n",
    "import torch.nn.functional as F\n",
    "from torch.utils.data import Dataset, DataLoader\n",
    "\n",
    "from tqdm import tqdm"
   ]
  },
  {
   "cell_type": "markdown",
   "metadata": {},
   "source": [
    "### Загружаем датасеты"
   ]
  },
  {
   "cell_type": "code",
   "execution_count": 400,
   "metadata": {
    "id": "o9N4JbcWudk2"
   },
   "outputs": [],
   "source": [
    "df = pd.read_csv(\"./content/train_dataset_train.csv\")\n",
    "dft = pd.read_csv(\"./content/test_dataset_test.csv\")"
   ]
  },
  {
   "cell_type": "markdown",
   "metadata": {},
   "source": [
    "### и объединяем их"
   ]
  },
  {
   "cell_type": "code",
   "execution_count": 401,
   "metadata": {},
   "outputs": [],
   "source": [
    "len_df = len(df)\n",
    "dfres = pd.concat([df, dft], ignore_index=True)\n",
    "#len(dfres)\n",
    "#dfres = dfres.fillna(0)\n",
    "#dfres.info(verbose=True)"
   ]
  },
  {
   "cell_type": "code",
   "execution_count": 402,
   "metadata": {},
   "outputs": [],
   "source": [
    "dfres = dfres.fillna(-1)"
   ]
  },
  {
   "cell_type": "markdown",
   "metadata": {
    "id": "GgCS5B_PutbW"
   },
   "source": [
    "### Рассмотрим датасеты по ближе"
   ]
  },
  {
   "cell_type": "code",
   "execution_count": 403,
   "metadata": {
    "colab": {
     "base_uri": "https://localhost:8080/",
     "height": 237
    },
    "id": "qEvfySMMutBR",
    "outputId": "68972fc6-40ca-4880-8e8f-eaefb3c5c011"
   },
   "outputs": [
    {
     "data": {
      "text/html": [
       "<div>\n",
       "<style scoped>\n",
       "    .dataframe tbody tr th:only-of-type {\n",
       "        vertical-align: middle;\n",
       "    }\n",
       "\n",
       "    .dataframe tbody tr th {\n",
       "        vertical-align: top;\n",
       "    }\n",
       "\n",
       "    .dataframe thead th {\n",
       "        text-align: right;\n",
       "    }\n",
       "</style>\n",
       "<table border=\"1\" class=\"dataframe\">\n",
       "  <thead>\n",
       "    <tr style=\"text-align: right;\">\n",
       "      <th></th>\n",
       "      <th>id</th>\n",
       "      <th>age_indicator</th>\n",
       "      <th>month_id</th>\n",
       "      <th>student_id</th>\n",
       "      <th>program_id</th>\n",
       "      <th>carts_created_at</th>\n",
       "      <th>spent_time_total</th>\n",
       "      <th>spent_time_to_complete_hw</th>\n",
       "      <th>completed_hw</th>\n",
       "      <th>failed_hw</th>\n",
       "      <th>...</th>\n",
       "      <th>p_total_calls</th>\n",
       "      <th>p_was_conversations</th>\n",
       "      <th>p_total_duration</th>\n",
       "      <th>support_feedback_avg</th>\n",
       "      <th>feedback_avg_d1</th>\n",
       "      <th>feedback_avg_d2</th>\n",
       "      <th>feedback_avg_d3</th>\n",
       "      <th>feedback_avg_d4</th>\n",
       "      <th>feedback_avg_d5</th>\n",
       "      <th>target</th>\n",
       "    </tr>\n",
       "  </thead>\n",
       "  <tbody>\n",
       "    <tr>\n",
       "      <th>0</th>\n",
       "      <td>15182</td>\n",
       "      <td>32.0</td>\n",
       "      <td>9/30/2020</td>\n",
       "      <td>6694527</td>\n",
       "      <td>1469</td>\n",
       "      <td>8/26/2020</td>\n",
       "      <td>163.0</td>\n",
       "      <td>0.0</td>\n",
       "      <td>1.0</td>\n",
       "      <td>0.0</td>\n",
       "      <td>...</td>\n",
       "      <td>NaN</td>\n",
       "      <td>NaN</td>\n",
       "      <td>NaN</td>\n",
       "      <td>4.0</td>\n",
       "      <td>5.0</td>\n",
       "      <td>NaN</td>\n",
       "      <td>NaN</td>\n",
       "      <td>NaN</td>\n",
       "      <td>NaN</td>\n",
       "      <td>0</td>\n",
       "    </tr>\n",
       "    <tr>\n",
       "      <th>1</th>\n",
       "      <td>89385</td>\n",
       "      <td>NaN</td>\n",
       "      <td>6/30/2021</td>\n",
       "      <td>6712877</td>\n",
       "      <td>1392</td>\n",
       "      <td>8/5/2020</td>\n",
       "      <td>NaN</td>\n",
       "      <td>NaN</td>\n",
       "      <td>NaN</td>\n",
       "      <td>NaN</td>\n",
       "      <td>...</td>\n",
       "      <td>NaN</td>\n",
       "      <td>NaN</td>\n",
       "      <td>NaN</td>\n",
       "      <td>NaN</td>\n",
       "      <td>NaN</td>\n",
       "      <td>NaN</td>\n",
       "      <td>NaN</td>\n",
       "      <td>NaN</td>\n",
       "      <td>NaN</td>\n",
       "      <td>0</td>\n",
       "    </tr>\n",
       "    <tr>\n",
       "      <th>2</th>\n",
       "      <td>47931</td>\n",
       "      <td>NaN</td>\n",
       "      <td>2/28/2021</td>\n",
       "      <td>6659444</td>\n",
       "      <td>376</td>\n",
       "      <td>6/20/2020</td>\n",
       "      <td>NaN</td>\n",
       "      <td>NaN</td>\n",
       "      <td>NaN</td>\n",
       "      <td>NaN</td>\n",
       "      <td>...</td>\n",
       "      <td>NaN</td>\n",
       "      <td>NaN</td>\n",
       "      <td>NaN</td>\n",
       "      <td>NaN</td>\n",
       "      <td>NaN</td>\n",
       "      <td>NaN</td>\n",
       "      <td>NaN</td>\n",
       "      <td>NaN</td>\n",
       "      <td>NaN</td>\n",
       "      <td>0</td>\n",
       "    </tr>\n",
       "  </tbody>\n",
       "</table>\n",
       "<p>3 rows × 59 columns</p>\n",
       "</div>"
      ],
      "text/plain": [
       "      id  age_indicator   month_id  student_id  program_id carts_created_at  \\\n",
       "0  15182           32.0  9/30/2020     6694527        1469        8/26/2020   \n",
       "1  89385            NaN  6/30/2021     6712877        1392         8/5/2020   \n",
       "2  47931            NaN  2/28/2021     6659444         376        6/20/2020   \n",
       "\n",
       "   spent_time_total  spent_time_to_complete_hw  completed_hw  failed_hw  ...  \\\n",
       "0             163.0                        0.0           1.0        0.0  ...   \n",
       "1               NaN                        NaN           NaN        NaN  ...   \n",
       "2               NaN                        NaN           NaN        NaN  ...   \n",
       "\n",
       "   p_total_calls  p_was_conversations  p_total_duration  support_feedback_avg  \\\n",
       "0            NaN                  NaN               NaN                   4.0   \n",
       "1            NaN                  NaN               NaN                   NaN   \n",
       "2            NaN                  NaN               NaN                   NaN   \n",
       "\n",
       "   feedback_avg_d1  feedback_avg_d2  feedback_avg_d3  feedback_avg_d4  \\\n",
       "0              5.0              NaN              NaN              NaN   \n",
       "1              NaN              NaN              NaN              NaN   \n",
       "2              NaN              NaN              NaN              NaN   \n",
       "\n",
       "   feedback_avg_d5  target  \n",
       "0              NaN       0  \n",
       "1              NaN       0  \n",
       "2              NaN       0  \n",
       "\n",
       "[3 rows x 59 columns]"
      ]
     },
     "execution_count": 403,
     "metadata": {},
     "output_type": "execute_result"
    }
   ],
   "source": [
    "df.head(3)"
   ]
  },
  {
   "cell_type": "markdown",
   "metadata": {},
   "source": [
    "```\n",
    " 0   id                         200000 non-null  int64   # уникальное значение каждой строк\n",
    " 1   age_indicator              159123 non-null  float64 # возраст в условных единицах\n",
    " 2   month_id                   200000 non-null  object  # последний день месяца среза\n",
    " 3   student_id                 200000 non-null  int64   # id студента  \n",
    " 4   program_id                 200000 non-null  int64   # id продукта\n",
    " 5   carts_created_at           200000 non-null  object  # дата создания заявки\n",
    " 6   spent_time_total           86309 non-null   float64 # время за учебой в условных единицах\n",
    " 7   spent_time_to_complete_hw  42467 non-null   float64 # время, потраченное на выполнение дз\n",
    " 8   completed_hw               97599 non-null   float64 # кол-во выполненных дз\n",
    " 9   failed_hw                  97599 non-null   float64 # кол-во проваленных дз \n",
    " 10  reworked_hw                97599 non-null   float64 # кол-во переделанных дз \n",
    " 11  interacted_hw              97599 non-null   float64 # кол-во дз, которыми занимался студент в этом месяце\n",
    " 12  avg_hw_mark                44496 non-null   float64 # средняя оценка за дз\n",
    " 13  test_with_good_mark        97599 non-null   float64 # кол-во тестов с удовлетворительной оценкой\n",
    " 14  test_with_great_mark       97599 non-null   float64 # кол-во тестов с отличной оценкой\n",
    " 15  webinars                   97599 non-null   float64 # кол-во просмотренных вебинаров\n",
    " 16  avg_quiz_result            16259 non-null   float64 # средняя оценка за квизы\n",
    " 17  notes                      97599 non-null   float64 # кол-во оставленных заметок\n",
    " 18  hw_leader                  97599 non-null   float64 # был лидером в групповых заданиях\n",
    " 19  lessons                    97599 non-null   float64 # кол-во уроков, которые открывал пользователь\n",
    " 20  activity                   97599 non-null   float64 # общая активность студента в личном кабинете\n",
    " 21  bought_d1                  200000 non-null  int64   # кол-во прошлых покупок в направлении 1\n",
    " 22  bought_d2                  200000 non-null  int64   \n",
    " 23  bought_d3                  200000 non-null  int64  \n",
    " 24  bought_d4                  200000 non-null  int64  \n",
    " 25  bought_d5                  200000 non-null  int64  \n",
    " 26  bought_avg_duration        10359 non-null   float64\n",
    " 27  payment_type               200000 non-null  int64   # тип оплаты\n",
    " 28  promo                      200000 non-null  object  # участвовал ли в любой промокампании\n",
    " 29  price                      200000 non-null  float64 # цена программы\n",
    " 30  communication_type         198595 non-null  object  # тип создания заявки (ОП или сам через сайт)\n",
    " 31  auto_payment               200000 non-null  int64   # автопокупка (1 или 0)\n",
    " 32  ABC                        200000 non-null  object  # сегмент клиента по готовности купить\n",
    " 33  city                       13592 non-null   object  # город пользователя\n",
    " 34  country                    12944 non-null   object  # страна пользователя \n",
    " 35  gender                     199940 non-null  float64 # пол\n",
    " 36  speed_recall               21880 non-null   float64 # скорость перезвона клиенту (1 - быстро, 7 - долго)\n",
    " 37  os                         77374 non-null   object  # операционная система пользователя\n",
    " 38  browser                    77374 non-null   object  # название браузера \n",
    " 39  platform                   77361 non-null   object  # платформа\n",
    " 40  m_avg_talk_duration        51537 non-null   float64 # средняя длительность разговора\n",
    " 41  m_avg_duration             45764 non-null   float64 # средняя длительность звонка \n",
    " 42  m_missed_calls             51537 non-null   float64 # кол-во пропущенных звонков\n",
    " 43  m_total_calls              51537 non-null   float64 # всего звонков\n",
    " 44  m_was_conversations        51537 non-null   float64 # кол-во звонков, когда состоялся диалог\n",
    " 45  m_total_duration           51537 non-null   float64 # длительность всего\n",
    " 46  p_avg_talk_duration        16453 non-null   float64\n",
    " 47  p_avg_duration             13488 non-null   float64\n",
    " 48  p_missed_calls             16453 non-null   float64\n",
    " 49  p_total_calls              16453 non-null   float64\n",
    " 50  p_was_conversations        16453 non-null   float64\n",
    " 51  p_total_duration           16453 non-null   float64\n",
    " 52  support_feedback_avg       37557 non-null   float64 # средняя удовлетворенность службой поддержки за год\n",
    " 53  feedback_avg_d1            48496 non-null   float64 # средний балл по курсам направления 1\n",
    " 54  feedback_avg_d2            14805 non-null   float64\n",
    " 55  feedback_avg_d3            17778 non-null   float64\n",
    " 56  feedback_avg_d4            25076 non-null   float64\n",
    " 57  feedback_avg_d5            15733 non-null   float64\n",
    " 58  target                     200000 non-null  int64  \n",
    "``` "
   ]
  },
  {
   "cell_type": "markdown",
   "metadata": {},
   "source": [
    "### Приспособы для one_hot_encoding"
   ]
  },
  {
   "cell_type": "code",
   "execution_count": 404,
   "metadata": {},
   "outputs": [],
   "source": [
    "def convert_to_dict(df):\n",
    "    res = dict()\n",
    "    i = 0\n",
    "    for el in df:\n",
    "        if el == -1:\n",
    "            continue\n",
    "        if el not in res:\n",
    "            res[el] = i\n",
    "            i += 1\n",
    "    return res"
   ]
  },
  {
   "cell_type": "code",
   "execution_count": 405,
   "metadata": {},
   "outputs": [],
   "source": [
    "def simple_one_hot_encoding(df, col_name):\n",
    "    codes = convert_to_dict(df[col_name])\n",
    "        \n",
    "    new_columns = {}\n",
    "    for i in range(len(codes)):\n",
    "        new_columns[col_name+str(i)] = [0 for i in range(len(df))]\n",
    "    new_columns = pd.DataFrame(new_columns, index=df.index)\n",
    "    new_columns = new_columns.astype(np.int8)\n",
    "    df = pd.concat([df, new_columns], axis=1)\n",
    "\n",
    "    for i in range(len(df)):\n",
    "        code = df.iloc[i, df.columns.get_loc(col_name)]\n",
    "        if code != -1:\n",
    "            ccode = codes[code]\n",
    "            df.iloc[i, df.columns.get_loc(col_name+str(ccode))] = 1\n",
    "    return df, codes"
   ]
  },
  {
   "cell_type": "code",
   "execution_count": 406,
   "metadata": {},
   "outputs": [],
   "source": [
    "def digital_convert_to_dict(vmax):\n",
    "    res = dict()\n",
    "    \n",
    "    i = 0\n",
    "    j = 0\n",
    "    while i <= vmax:\n",
    "        if i < 10:\n",
    "            res[j] = i\n",
    "            i += 1\n",
    "            j += 1\n",
    "        elif i < 100:\n",
    "            res[j] = i\n",
    "            i += 10\n",
    "            j += 1\n",
    "        elif i < 1000:\n",
    "            res[j] = i\n",
    "            i += 100\n",
    "            j += 1\n",
    "        elif i < 10000:\n",
    "            res[j] = i\n",
    "            i += 1000\n",
    "            j += 1\n",
    "        elif i < 100000:\n",
    "            res[j] = i\n",
    "            i += 1000\n",
    "            j += 1\n",
    "        elif i < 1000000:\n",
    "            res[j] = i\n",
    "            i += 10000\n",
    "            j += 1\n",
    "    return res"
   ]
  },
  {
   "cell_type": "code",
   "execution_count": 407,
   "metadata": {},
   "outputs": [],
   "source": [
    "def digital_conv(code, codes):\n",
    "    if code == -1:\n",
    "        return None\n",
    "    prev_c = 0\n",
    "    for c in codes:\n",
    "        if code >= codes[c]:\n",
    "            prev_c = c\n",
    "        else:\n",
    "            break\n",
    "    return prev_c"
   ]
  },
  {
   "cell_type": "code",
   "execution_count": 408,
   "metadata": {},
   "outputs": [],
   "source": [
    "def digital_one_hot_encoding(df, col_name):\n",
    "    \n",
    "    vmax = df[col_name].max()\n",
    "    \n",
    "    codes = digital_convert_to_dict(vmax)\n",
    "        \n",
    "    new_columns = {}\n",
    "    for code in range(len(codes)):\n",
    "        new_columns[col_name+str(code)] = [0 for i in range(len(df))]\n",
    "    new_columns = pd.DataFrame(new_columns, index=df.index)\n",
    "    new_columns = new_columns.astype(np.int8)\n",
    "    df = pd.concat([df, new_columns], axis=1)\n",
    "\n",
    "    for i in range(len(df)):\n",
    "        code = df.iloc[i, df.columns.get_loc(col_name)]\n",
    "        ccode = digital_conv(code, codes)\n",
    "        if ccode != None:\n",
    "            df.iloc[i, df.columns.get_loc(col_name+str(ccode))] = 1\n",
    "    return df, codes"
   ]
  },
  {
   "cell_type": "markdown",
   "metadata": {},
   "source": [
    "### анализируем данные"
   ]
  },
  {
   "cell_type": "code",
   "execution_count": 409,
   "metadata": {},
   "outputs": [
    {
     "data": {
      "text/plain": [
       "(-1.0     58326\n",
       "  33.0     5767\n",
       "  25.0     5759\n",
       "  35.0     5742\n",
       "  15.0     5742\n",
       "  21.0     5739\n",
       "  30.0     5737\n",
       "  39.0     5732\n",
       "  2.0      5730\n",
       "  10.0     5727\n",
       "  13.0     5726\n",
       "  4.0      5725\n",
       "  9.0      5724\n",
       "  8.0      5724\n",
       "  28.0     5724\n",
       "  36.0     5723\n",
       "  38.0     5722\n",
       "  1.0      5721\n",
       "  16.0     5715\n",
       "  22.0     5711\n",
       "  31.0     5711\n",
       "  11.0     5711\n",
       "  29.0     5709\n",
       "  32.0     5703\n",
       "  6.0      5701\n",
       "  27.0     5701\n",
       "  12.0     5700\n",
       "  23.0     5699\n",
       "  7.0      5699\n",
       "  19.0     5698\n",
       "  37.0     5689\n",
       "  3.0      5688\n",
       "  17.0     5686\n",
       "  24.0     5676\n",
       "  26.0     5669\n",
       "  14.0     5664\n",
       "  20.0     5652\n",
       "  34.0     5626\n",
       "  5.0      5620\n",
       "  18.0     5232\n",
       "  40.0     4547\n",
       " Name: age_indicator, dtype: int64,\n",
       " 41,\n",
       " 40.0,\n",
       " -1.0)"
      ]
     },
     "execution_count": 409,
     "metadata": {},
     "output_type": "execute_result"
    }
   ],
   "source": [
    "# кандидат на one_hoting_encode\n",
    "d = dfres['age_indicator'].value_counts()\n",
    "l = len(d)\n",
    "rmax = dfres['age_indicator'].max()\n",
    "rmin = dfres['age_indicator'].min()\n",
    "d, l, rmax, rmin"
   ]
  },
  {
   "cell_type": "code",
   "execution_count": 410,
   "metadata": {},
   "outputs": [],
   "source": [
    "dfres, codes_age_indicator = digital_one_hot_encoding(dfres, 'age_indicator')\n",
    "dfres = dfres.drop('age_indicator', axis=1)"
   ]
  },
  {
   "cell_type": "code",
   "execution_count": 411,
   "metadata": {},
   "outputs": [
    {
     "data": {
      "text/plain": [
       "(11/30/2021    34088\n",
       " 10/31/2021    31019\n",
       " 9/30/2021     28439\n",
       " 8/31/2021     25913\n",
       " 7/31/2021     23513\n",
       " 6/30/2021     21552\n",
       " 5/31/2021     19651\n",
       " 4/30/2021     17936\n",
       " 3/31/2021     16170\n",
       " 2/28/2021     14298\n",
       " 1/31/2021     12680\n",
       " 12/31/2020    10857\n",
       " 11/30/2020     8986\n",
       " 10/31/2020     7276\n",
       " 9/30/2020      5792\n",
       " 8/31/2020      3844\n",
       " 7/31/2020      2211\n",
       " 6/30/2020       772\n",
       " Name: month_id, dtype: int64,\n",
       " 18,\n",
       " '9/30/2021',\n",
       " '1/31/2021')"
      ]
     },
     "execution_count": 411,
     "metadata": {},
     "output_type": "execute_result"
    }
   ],
   "source": [
    "# кандидат на one_hoting_encode\n",
    "d = dfres['month_id'].value_counts()\n",
    "l = len(d)\n",
    "rmax = dfres['month_id'].max()\n",
    "rmin = dfres['month_id'].min()\n",
    "d, l, rmax, rmin"
   ]
  },
  {
   "cell_type": "code",
   "execution_count": 412,
   "metadata": {},
   "outputs": [],
   "source": [
    "dfres, codes_month_id = simple_one_hot_encoding(dfres, 'month_id')\n",
    "dfres = dfres.drop('month_id', axis=1)"
   ]
  },
  {
   "cell_type": "code",
   "execution_count": 413,
   "metadata": {},
   "outputs": [
    {
     "data": {
      "text/plain": [
       "(789     11492\n",
       " 1360     8414\n",
       " 1635     7974\n",
       " 1609     7492\n",
       " 211      7401\n",
       "         ...  \n",
       " 2611        2\n",
       " 2699        1\n",
       " 2714        1\n",
       " 2235        1\n",
       " 2514        1\n",
       " Name: program_id, Length: 269, dtype: int64,\n",
       " 269,\n",
       " 2714,\n",
       " 12)"
      ]
     },
     "execution_count": 413,
     "metadata": {},
     "output_type": "execute_result"
    }
   ],
   "source": [
    "# кандидат на one_hoting_encode\n",
    "d = dfres['program_id'].value_counts()\n",
    "l = len(d)\n",
    "rmax = dfres['program_id'].max()\n",
    "rmin = dfres['program_id'].min()\n",
    "d, l, rmax, rmin"
   ]
  },
  {
   "cell_type": "code",
   "execution_count": 414,
   "metadata": {},
   "outputs": [],
   "source": [
    "dfres, codes_program_id = simple_one_hot_encoding(dfres, 'program_id')\n",
    "dfres = dfres.drop('program_id', axis=1)"
   ]
  },
  {
   "cell_type": "code",
   "execution_count": 415,
   "metadata": {},
   "outputs": [
    {
     "data": {
      "text/plain": [
       "(12/30/2020    4119\n",
       " 8/24/2020     2568\n",
       " 8/27/2020     2502\n",
       " 12/31/2020    2481\n",
       " 8/31/2020     2410\n",
       "               ... \n",
       " 11/16/2021      49\n",
       " 6/6/2020        36\n",
       " 6/8/2020        36\n",
       " 6/9/2020        18\n",
       " 6/5/2020        18\n",
       " Name: carts_created_at, Length: 447, dtype: int64,\n",
       " 447,\n",
       " '9/9/2021',\n",
       " '1/1/2021')"
      ]
     },
     "execution_count": 415,
     "metadata": {},
     "output_type": "execute_result"
    }
   ],
   "source": [
    "# считаем, что дата создания заявки не очень важна\n",
    "d = dfres['carts_created_at'].value_counts()\n",
    "l = len(d)\n",
    "rmax = dfres['carts_created_at'].max()\n",
    "rmin = dfres['carts_created_at'].min()\n",
    "d, l, rmax, rmin"
   ]
  },
  {
   "cell_type": "code",
   "execution_count": 416,
   "metadata": {},
   "outputs": [],
   "source": [
    "dfres, codes_carts_created_at = simple_one_hot_encoding(dfres, 'carts_created_at')\n",
    "dfres = dfres.drop('carts_created_at', axis=1)"
   ]
  },
  {
   "cell_type": "code",
   "execution_count": 417,
   "metadata": {},
   "outputs": [
    {
     "data": {
      "text/plain": [
       "(-1.0       162001\n",
       "  0.0        11656\n",
       "  1.0         3182\n",
       "  2.0         2740\n",
       "  3.0         2359\n",
       "             ...  \n",
       "  761.0          1\n",
       "  1148.0         1\n",
       "  1229.0         1\n",
       "  1383.0         1\n",
       "  917.0          1\n",
       " Name: spent_time_total, Length: 1018, dtype: int64,\n",
       " 1018,\n",
       " 3111.0,\n",
       " -1.0)"
      ]
     },
     "execution_count": 417,
     "metadata": {},
     "output_type": "execute_result"
    }
   ],
   "source": [
    "d = dfres['spent_time_total'].value_counts()\n",
    "l = len(d)\n",
    "rmax = dfres['spent_time_total'].max()\n",
    "rmin = dfres['spent_time_total'].min()\n",
    "d, l, rmax, rmin"
   ]
  },
  {
   "cell_type": "code",
   "execution_count": 418,
   "metadata": {},
   "outputs": [],
   "source": [
    "dfres, codes_spent_time_total = digital_one_hot_encoding(dfres, 'spent_time_total')\n",
    "dfres = dfres.drop('spent_time_total', axis=1)"
   ]
  },
  {
   "cell_type": "code",
   "execution_count": 419,
   "metadata": {},
   "outputs": [
    {
     "data": {
      "text/plain": [
       "(-1.0    224487\n",
       "  0.0     60510\n",
       " Name: spent_time_to_complete_hw, dtype: int64,\n",
       " 2,\n",
       " 0.0,\n",
       " -1.0)"
      ]
     },
     "execution_count": 419,
     "metadata": {},
     "output_type": "execute_result"
    }
   ],
   "source": [
    "# игнорим\n",
    "d = dfres['spent_time_to_complete_hw'].value_counts()\n",
    "l = len(d)\n",
    "rmax = dfres['spent_time_to_complete_hw'].max()\n",
    "rmin = dfres['spent_time_to_complete_hw'].min()\n",
    "d, l, rmax, rmin"
   ]
  },
  {
   "cell_type": "code",
   "execution_count": 420,
   "metadata": {},
   "outputs": [],
   "source": [
    "#dfres, codes_program_id = digital_one_hot_encoding(dfres, 'spent_time_to_complete_hw')\n",
    "dfres = dfres.drop('spent_time_to_complete_hw', axis=1)"
   ]
  },
  {
   "cell_type": "code",
   "execution_count": 421,
   "metadata": {},
   "outputs": [
    {
     "data": {
      "text/plain": [
       "(-1.0     145917\n",
       "  0.0      75073\n",
       "  1.0      20886\n",
       "  2.0      12811\n",
       "  3.0       9534\n",
       "  4.0       7733\n",
       "  5.0       5404\n",
       "  6.0       3788\n",
       "  7.0       2124\n",
       "  8.0       1060\n",
       "  9.0        415\n",
       "  10.0       155\n",
       "  11.0        46\n",
       "  12.0        19\n",
       "  13.0        15\n",
       "  14.0         6\n",
       "  15.0         3\n",
       "  17.0         2\n",
       "  16.0         2\n",
       "  25.0         2\n",
       "  34.0         1\n",
       "  23.0         1\n",
       " Name: completed_hw, dtype: int64,\n",
       " 22,\n",
       " 34.0,\n",
       " -1.0)"
      ]
     },
     "execution_count": 421,
     "metadata": {},
     "output_type": "execute_result"
    }
   ],
   "source": [
    "# кандидат на one_hoting_encode\n",
    "d = dfres['completed_hw'].value_counts()\n",
    "l = len(d)\n",
    "rmax = dfres['completed_hw'].max()\n",
    "rmin = dfres['completed_hw'].min()\n",
    "d, l, rmax, rmin"
   ]
  },
  {
   "cell_type": "code",
   "execution_count": 422,
   "metadata": {},
   "outputs": [],
   "source": [
    "dfres, codes_completed_hw = digital_one_hot_encoding(dfres, 'completed_hw')\n",
    "dfres = dfres.drop('completed_hw', axis=1)"
   ]
  },
  {
   "cell_type": "code",
   "execution_count": 423,
   "metadata": {},
   "outputs": [
    {
     "data": {
      "text/plain": [
       "(-1.0      145917\n",
       "  0.0      138746\n",
       "  1.0          74\n",
       "  2.0          29\n",
       "  8.0          19\n",
       "  3.0          17\n",
       "  4.0          15\n",
       "  12.0         14\n",
       "  6.0          14\n",
       "  15.0         13\n",
       "  5.0          12\n",
       "  10.0         11\n",
       "  7.0          10\n",
       "  9.0          10\n",
       "  20.0          9\n",
       "  11.0          9\n",
       "  16.0          8\n",
       "  19.0          7\n",
       "  18.0          7\n",
       "  17.0          6\n",
       "  14.0          5\n",
       "  21.0          4\n",
       "  23.0          4\n",
       "  26.0          4\n",
       "  13.0          3\n",
       "  30.0          3\n",
       "  41.0          3\n",
       "  33.0          3\n",
       "  25.0          3\n",
       "  28.0          3\n",
       "  31.0          2\n",
       "  36.0          2\n",
       "  27.0          2\n",
       "  102.0         1\n",
       "  24.0          1\n",
       "  60.0          1\n",
       "  57.0          1\n",
       "  29.0          1\n",
       "  22.0          1\n",
       "  38.0          1\n",
       "  37.0          1\n",
       "  43.0          1\n",
       " Name: failed_hw, dtype: int64,\n",
       " 42,\n",
       " 102.0,\n",
       " -1.0)"
      ]
     },
     "execution_count": 423,
     "metadata": {},
     "output_type": "execute_result"
    }
   ],
   "source": [
    "# разобьем на шаги по 10\n",
    "d = dfres['failed_hw'].value_counts()\n",
    "l = len(d)\n",
    "rmax = dfres['failed_hw'].max()\n",
    "rmin = dfres['failed_hw'].min()\n",
    "d, l, rmax, rmin"
   ]
  },
  {
   "cell_type": "code",
   "execution_count": 424,
   "metadata": {},
   "outputs": [],
   "source": [
    "dfres, codes_failed_hw = digital_one_hot_encoding(dfres, 'failed_hw')\n",
    "dfres = dfres.drop('failed_hw', axis=1)"
   ]
  },
  {
   "cell_type": "code",
   "execution_count": 425,
   "metadata": {},
   "outputs": [
    {
     "data": {
      "text/plain": [
       "(-1.0      145917\n",
       "  0.0      107712\n",
       "  11.0       1317\n",
       "  10.0       1298\n",
       "  13.0       1282\n",
       "            ...  \n",
       "  349.0         1\n",
       "  136.0         1\n",
       "  151.0         1\n",
       "  320.0         1\n",
       "  184.0         1\n",
       " Name: reworked_hw, Length: 227, dtype: int64,\n",
       " 227,\n",
       " 721.0,\n",
       " -1.0)"
      ]
     },
     "execution_count": 425,
     "metadata": {},
     "output_type": "execute_result"
    }
   ],
   "source": [
    "# разобьем на шаги по 10\n",
    "d = dfres['reworked_hw'].value_counts()\n",
    "l = len(d)\n",
    "rmax = dfres['reworked_hw'].max()\n",
    "rmin = dfres['reworked_hw'].min()\n",
    "d, l, rmax, rmin"
   ]
  },
  {
   "cell_type": "code",
   "execution_count": 426,
   "metadata": {},
   "outputs": [],
   "source": [
    "dfres, codes_reworked_hw = digital_one_hot_encoding(dfres, 'reworked_hw')\n",
    "dfres = dfres.drop('reworked_hw', axis=1)"
   ]
  },
  {
   "cell_type": "code",
   "execution_count": 427,
   "metadata": {},
   "outputs": [
    {
     "data": {
      "text/plain": [
       "(-1.0     145917\n",
       "  2.0      71208\n",
       "  3.0      21828\n",
       "  4.0      13502\n",
       "  5.0      10063\n",
       "  6.0       8140\n",
       "  7.0       5821\n",
       "  8.0       4052\n",
       "  9.0       2377\n",
       "  10.0      1241\n",
       "  11.0       501\n",
       "  12.0       193\n",
       "  13.0        61\n",
       "  14.0        41\n",
       "  15.0        22\n",
       "  16.0        10\n",
       "  17.0         5\n",
       "  18.0         3\n",
       "  19.0         3\n",
       "  21.0         2\n",
       "  27.0         2\n",
       "  23.0         2\n",
       "  38.0         1\n",
       "  32.0         1\n",
       "  26.0         1\n",
       " Name: interacted_hw, dtype: int64,\n",
       " 25,\n",
       " 38.0,\n",
       " -1.0)"
      ]
     },
     "execution_count": 427,
     "metadata": {},
     "output_type": "execute_result"
    }
   ],
   "source": [
    "#с шагом 1\n",
    "d = dfres['interacted_hw'].value_counts()\n",
    "l = len(d)\n",
    "rmax = dfres['interacted_hw'].max()\n",
    "rmin = dfres['interacted_hw'].min()\n",
    "d, l, rmax, rmin"
   ]
  },
  {
   "cell_type": "code",
   "execution_count": 428,
   "metadata": {},
   "outputs": [],
   "source": [
    "dfres, codes_interacted_hw = digital_one_hot_encoding(dfres, 'interacted_hw')\n",
    "dfres = dfres.drop('interacted_hw', axis=1)"
   ]
  },
  {
   "cell_type": "code",
   "execution_count": 429,
   "metadata": {},
   "outputs": [
    {
     "data": {
      "text/plain": [
       "(-1.000000      221592\n",
       "  100.000000     62689\n",
       "  0.000000         385\n",
       "  50.000000         50\n",
       "  66.666667         25\n",
       "                 ...  \n",
       "  93.103448          1\n",
       "  23.529412          1\n",
       "  78.787879          1\n",
       "  82.352941          1\n",
       "  78.947368          1\n",
       " Name: avg_hw_mark, Length: 82, dtype: int64,\n",
       " 82,\n",
       " 100.0,\n",
       " -1.0)"
      ]
     },
     "execution_count": 429,
     "metadata": {},
     "output_type": "execute_result"
    }
   ],
   "source": [
    "#c шагом 10, max=100\n",
    "d = dfres['avg_hw_mark'].value_counts()\n",
    "l = len(d)\n",
    "rmax = dfres['avg_hw_mark'].max()\n",
    "rmin = dfres['avg_hw_mark'].min()\n",
    "d, l, rmax, rmin"
   ]
  },
  {
   "cell_type": "code",
   "execution_count": 430,
   "metadata": {},
   "outputs": [],
   "source": [
    "dfres, codes_avg_hw_mark = digital_one_hot_encoding(dfres, 'avg_hw_mark')\n",
    "dfres = dfres.drop('avg_hw_mark', axis=1)"
   ]
  },
  {
   "cell_type": "code",
   "execution_count": 431,
   "metadata": {},
   "outputs": [
    {
     "data": {
      "text/plain": [
       "(-1.0      145917\n",
       "  0.0      103933\n",
       "  4.0       11611\n",
       "  8.0        7941\n",
       "  12.0       4292\n",
       "            ...  \n",
       "  160.0         1\n",
       "  208.0         1\n",
       "  286.0         1\n",
       "  184.0         1\n",
       "  216.0         1\n",
       " Name: test_with_good_mark, Length: 93, dtype: int64,\n",
       " 93,\n",
       " 418.0,\n",
       " -1.0)"
      ]
     },
     "execution_count": 431,
     "metadata": {},
     "output_type": "execute_result"
    }
   ],
   "source": [
    "# с шагом 10\n",
    "d = dfres['test_with_good_mark'].value_counts()\n",
    "l = len(d)\n",
    "rmax = dfres['test_with_good_mark'].max()\n",
    "rmin = dfres['test_with_good_mark'].min()\n",
    "d, l, rmax, rmin"
   ]
  },
  {
   "cell_type": "code",
   "execution_count": 432,
   "metadata": {},
   "outputs": [],
   "source": [
    "dfres, codes_test_with_good_mark = digital_one_hot_encoding(dfres, 'test_with_good_mark')\n",
    "dfres = dfres.drop('test_with_good_mark', axis=1)"
   ]
  },
  {
   "cell_type": "code",
   "execution_count": 433,
   "metadata": {},
   "outputs": [
    {
     "data": {
      "text/plain": [
       "(-1.0      145917\n",
       "  0.0      106285\n",
       "  4.0        9131\n",
       "  6.0        4277\n",
       "  8.0        3937\n",
       "            ...  \n",
       "  110.0         1\n",
       "  104.0         1\n",
       "  120.0         1\n",
       "  208.0         1\n",
       "  130.0         1\n",
       " Name: test_with_great_mark, Length: 63, dtype: int64,\n",
       " 63,\n",
       " 208.0,\n",
       " -1.0)"
      ]
     },
     "execution_count": 433,
     "metadata": {},
     "output_type": "execute_result"
    }
   ],
   "source": [
    "# с шагом 10\n",
    "d = dfres['test_with_great_mark'].value_counts()\n",
    "l = len(d)\n",
    "rmax = dfres['test_with_great_mark'].max()\n",
    "rmin = dfres['test_with_great_mark'].min()\n",
    "d, l, rmax, rmin"
   ]
  },
  {
   "cell_type": "code",
   "execution_count": 434,
   "metadata": {},
   "outputs": [],
   "source": [
    "dfres, codes_test_with_great_mark = digital_one_hot_encoding(dfres, 'test_with_great_mark')\n",
    "dfres = dfres.drop('test_with_great_mark', axis=1)"
   ]
  },
  {
   "cell_type": "code",
   "execution_count": 435,
   "metadata": {},
   "outputs": [
    {
     "data": {
      "text/plain": [
       "(-1.0      145917\n",
       "  0.0       77431\n",
       "  1.0       13424\n",
       "  2.0        9447\n",
       "  3.0        7029\n",
       "            ...  \n",
       "  102.0         1\n",
       "  55.0          1\n",
       "  67.0          1\n",
       "  56.0          1\n",
       "  65.0          1\n",
       " Name: webinars, Length: 71, dtype: int64,\n",
       " 71,\n",
       " 242.0,\n",
       " -1.0)"
      ]
     },
     "execution_count": 435,
     "metadata": {},
     "output_type": "execute_result"
    }
   ],
   "source": [
    "# с шагом 10\n",
    "d = dfres['webinars'].value_counts()\n",
    "l = len(d)\n",
    "rmax = dfres['webinars'].max()\n",
    "rmin = dfres['webinars'].min()\n",
    "d, l, rmax, rmin"
   ]
  },
  {
   "cell_type": "code",
   "execution_count": 436,
   "metadata": {},
   "outputs": [],
   "source": [
    "dfres, codes_webinars = digital_one_hot_encoding(dfres, 'webinars')\n",
    "dfres = dfres.drop('webinars', axis=1)"
   ]
  },
  {
   "cell_type": "code",
   "execution_count": 437,
   "metadata": {},
   "outputs": [
    {
     "data": {
      "text/plain": [
       "(-1.000000     261784\n",
       "  97.000000      7814\n",
       "  87.300000      1295\n",
       "  77.600000      1160\n",
       "  89.538462       520\n",
       "                ...  \n",
       "  89.011765         1\n",
       "  66.103704         1\n",
       "  12.933333         1\n",
       "  89.533294         1\n",
       "  66.511775         1\n",
       " Name: avg_quiz_result, Length: 3394, dtype: int64,\n",
       " 3394,\n",
       " 97.0,\n",
       " -1.0)"
      ]
     },
     "execution_count": 437,
     "metadata": {},
     "output_type": "execute_result"
    }
   ],
   "source": [
    "d = dfres['avg_quiz_result'].value_counts()\n",
    "l = len(d)\n",
    "rmax = dfres['avg_quiz_result'].max()\n",
    "rmin = dfres['avg_quiz_result'].min()\n",
    "d, l, rmax, rmin"
   ]
  },
  {
   "cell_type": "code",
   "execution_count": 438,
   "metadata": {},
   "outputs": [],
   "source": [
    "dfres, codes_avg_quiz_result = digital_one_hot_encoding(dfres, 'avg_quiz_result')\n",
    "dfres = dfres.drop('avg_quiz_result', axis=1)"
   ]
  },
  {
   "cell_type": "code",
   "execution_count": 439,
   "metadata": {},
   "outputs": [
    {
     "data": {
      "text/plain": [
       "(-1.0        145917\n",
       "  0.0        129303\n",
       "  105.0         614\n",
       "  84.0          500\n",
       "  21.0          429\n",
       "              ...  \n",
       "  8883.0          1\n",
       "  6951.0          1\n",
       "  6363.0          1\n",
       "  8295.0          1\n",
       "  11109.0         1\n",
       " Name: notes, Length: 349, dtype: int64,\n",
       " 349,\n",
       " 13377.0,\n",
       " -1.0)"
      ]
     },
     "execution_count": 439,
     "metadata": {},
     "output_type": "execute_result"
    }
   ],
   "source": [
    "# с шагом 100\n",
    "d = dfres['notes'].value_counts()\n",
    "l = len(d)\n",
    "rmax = dfres['notes'].max()\n",
    "rmin = dfres['notes'].min()\n",
    "d, l, rmax, rmin"
   ]
  },
  {
   "cell_type": "code",
   "execution_count": 440,
   "metadata": {},
   "outputs": [],
   "source": [
    "dfres, codes_notes = digital_one_hot_encoding(dfres, 'notes')\n",
    "dfres = dfres.drop('notes', axis=1)"
   ]
  },
  {
   "cell_type": "code",
   "execution_count": 441,
   "metadata": {},
   "outputs": [
    {
     "data": {
      "text/plain": [
       "(-1.0      145917\n",
       "  0.0      138015\n",
       "  1.0          92\n",
       "  8.0          73\n",
       "  6.0          70\n",
       "  5.0          68\n",
       "  7.0          67\n",
       "  4.0          67\n",
       "  9.0          66\n",
       "  10.0         65\n",
       "  12.0         47\n",
       "  2.0          44\n",
       "  11.0         40\n",
       "  13.0         38\n",
       "  14.0         36\n",
       "  3.0          32\n",
       "  16.0         29\n",
       "  15.0         29\n",
       "  17.0         21\n",
       "  18.0         21\n",
       "  20.0         14\n",
       "  22.0         14\n",
       "  28.0         13\n",
       "  19.0         13\n",
       "  21.0         12\n",
       "  24.0         11\n",
       "  25.0          9\n",
       "  31.0          7\n",
       "  30.0          6\n",
       "  29.0          6\n",
       "  23.0          6\n",
       "  26.0          6\n",
       "  27.0          5\n",
       "  43.0          4\n",
       "  32.0          3\n",
       "  33.0          3\n",
       "  37.0          3\n",
       "  41.0          3\n",
       "  35.0          2\n",
       "  51.0          2\n",
       "  44.0          2\n",
       "  42.0          2\n",
       "  34.0          2\n",
       "  54.0          1\n",
       "  50.0          1\n",
       "  48.0          1\n",
       "  49.0          1\n",
       "  138.0         1\n",
       "  80.0          1\n",
       "  45.0          1\n",
       "  36.0          1\n",
       "  39.0          1\n",
       "  66.0          1\n",
       "  93.0          1\n",
       "  57.0          1\n",
       " Name: hw_leader, dtype: int64,\n",
       " 55,\n",
       " 138.0,\n",
       " -1.0)"
      ]
     },
     "execution_count": 441,
     "metadata": {},
     "output_type": "execute_result"
    }
   ],
   "source": [
    "# С шагом 10\n",
    "d = dfres['hw_leader'].value_counts()\n",
    "l = len(d)\n",
    "rmax = dfres['hw_leader'].max()\n",
    "rmin = dfres['hw_leader'].min()\n",
    "d, l, rmax, rmin"
   ]
  },
  {
   "cell_type": "code",
   "execution_count": 442,
   "metadata": {},
   "outputs": [],
   "source": [
    "dfres, codes_hw_leader = digital_one_hot_encoding(dfres, 'hw_leader')\n",
    "dfres = dfres.drop('hw_leader', axis=1)"
   ]
  },
  {
   "cell_type": "code",
   "execution_count": 443,
   "metadata": {},
   "outputs": [
    {
     "data": {
      "text/plain": [
       "(-1.0     145917\n",
       "  1.0      14661\n",
       "  2.0       9565\n",
       "  9.0       8927\n",
       "  8.0       8767\n",
       "           ...  \n",
       "  50.0         1\n",
       "  75.0         1\n",
       "  61.0         1\n",
       "  83.0         1\n",
       "  53.0         1\n",
       " Name: lessons, Length: 66, dtype: int64,\n",
       " 66,\n",
       " 85.0,\n",
       " -1.0)"
      ]
     },
     "execution_count": 443,
     "metadata": {},
     "output_type": "execute_result"
    }
   ],
   "source": [
    "d = dfres['lessons'].value_counts()\n",
    "l = len(d)\n",
    "rmax = dfres['lessons'].max()\n",
    "rmin = dfres['lessons'].min()\n",
    "d, l, rmax, rmin"
   ]
  },
  {
   "cell_type": "code",
   "execution_count": 444,
   "metadata": {},
   "outputs": [],
   "source": [
    "dfres, codes_lessons = digital_one_hot_encoding(dfres, 'lessons')\n",
    "dfres = dfres.drop('lessons', axis=1)"
   ]
  },
  {
   "cell_type": "code",
   "execution_count": 445,
   "metadata": {},
   "outputs": [
    {
     "data": {
      "text/plain": [
       "(-1.0      145917\n",
       "  0.0       20852\n",
       "  1.0        9566\n",
       "  2.0        6967\n",
       "  3.0        5728\n",
       "            ...  \n",
       "  148.0         1\n",
       "  131.0         1\n",
       "  137.0         1\n",
       "  133.0         1\n",
       "  121.0         1\n",
       " Name: activity, Length: 148, dtype: int64,\n",
       " 148,\n",
       " 196.0,\n",
       " -1.0)"
      ]
     },
     "execution_count": 445,
     "metadata": {},
     "output_type": "execute_result"
    }
   ],
   "source": [
    "d = dfres['activity'].value_counts()\n",
    "l = len(d)\n",
    "rmax = dfres['activity'].max()\n",
    "rmin = dfres['activity'].min()\n",
    "d, l, rmax, rmin"
   ]
  },
  {
   "cell_type": "code",
   "execution_count": 446,
   "metadata": {},
   "outputs": [],
   "source": [
    "dfres, codes_activity = digital_one_hot_encoding(dfres, 'activity')\n",
    "dfres = dfres.drop('activity', axis=1)"
   ]
  },
  {
   "cell_type": "code",
   "execution_count": 447,
   "metadata": {},
   "outputs": [
    {
     "data": {
      "text/plain": [
       "(0     277419\n",
       " 1       6467\n",
       " 3        782\n",
       " 4        211\n",
       " 6         79\n",
       " 7         21\n",
       " 9          6\n",
       " 10         6\n",
       " 12         5\n",
       " 13         1\n",
       " Name: bought_d1, dtype: int64,\n",
       " 10,\n",
       " 13,\n",
       " 0)"
      ]
     },
     "execution_count": 447,
     "metadata": {},
     "output_type": "execute_result"
    }
   ],
   "source": [
    "d = dfres['bought_d1'].value_counts()\n",
    "l = len(d)\n",
    "rmax = dfres['bought_d1'].max()\n",
    "rmin = dfres['bought_d1'].min()\n",
    "d, l, rmax, rmin"
   ]
  },
  {
   "cell_type": "code",
   "execution_count": 448,
   "metadata": {},
   "outputs": [],
   "source": [
    "dfres, codes_bought_d1 = digital_one_hot_encoding(dfres, 'bought_d1')\n",
    "dfres = dfres.drop('bought_d1', axis=1)"
   ]
  },
  {
   "cell_type": "code",
   "execution_count": 449,
   "metadata": {},
   "outputs": [
    {
     "data": {
      "text/plain": [
       "(0    283110\n",
       " 1      1731\n",
       " 3       126\n",
       " 4        30\n",
       " Name: bought_d2, dtype: int64,\n",
       " 4,\n",
       " 4,\n",
       " 0)"
      ]
     },
     "execution_count": 449,
     "metadata": {},
     "output_type": "execute_result"
    }
   ],
   "source": [
    "d = dfres['bought_d2'].value_counts()\n",
    "l = len(d)\n",
    "rmax = dfres['bought_d2'].max()\n",
    "rmin = dfres['bought_d2'].min()\n",
    "d, l, rmax, rmin"
   ]
  },
  {
   "cell_type": "code",
   "execution_count": 450,
   "metadata": {},
   "outputs": [],
   "source": [
    "dfres, codes_bought_d2 = digital_one_hot_encoding(dfres, 'bought_d2')\n",
    "dfres = dfres.drop('bought_d2', axis=1)"
   ]
  },
  {
   "cell_type": "code",
   "execution_count": 451,
   "metadata": {},
   "outputs": [
    {
     "data": {
      "text/plain": [
       "(0    283714\n",
       " 1      1200\n",
       " 4        25\n",
       " 3        25\n",
       " 7        20\n",
       " 6        13\n",
       " Name: bought_d3, dtype: int64,\n",
       " 6,\n",
       " 7,\n",
       " 0)"
      ]
     },
     "execution_count": 451,
     "metadata": {},
     "output_type": "execute_result"
    }
   ],
   "source": [
    "d = dfres['bought_d3'].value_counts()\n",
    "l = len(d)\n",
    "rmax = dfres['bought_d3'].max()\n",
    "rmin = dfres['bought_d3'].min()\n",
    "d, l, rmax, rmin"
   ]
  },
  {
   "cell_type": "code",
   "execution_count": 452,
   "metadata": {},
   "outputs": [],
   "source": [
    "dfres, codes_bought_d3 = digital_one_hot_encoding(dfres, 'bought_d3')\n",
    "dfres = dfres.drop('bought_d3', axis=1)"
   ]
  },
  {
   "cell_type": "code",
   "execution_count": 453,
   "metadata": {},
   "outputs": [
    {
     "data": {
      "text/plain": [
       "(0    283157\n",
       " 1      1782\n",
       " 3        52\n",
       " 4         6\n",
       " Name: bought_d4, dtype: int64,\n",
       " 4,\n",
       " 4,\n",
       " 0)"
      ]
     },
     "execution_count": 453,
     "metadata": {},
     "output_type": "execute_result"
    }
   ],
   "source": [
    "d = dfres['bought_d4'].value_counts()\n",
    "l = len(d)\n",
    "rmax = dfres['bought_d4'].max()\n",
    "rmin = dfres['bought_d4'].min()\n",
    "d, l, rmax, rmin"
   ]
  },
  {
   "cell_type": "code",
   "execution_count": 454,
   "metadata": {},
   "outputs": [],
   "source": [
    "dfres, codes_bought_d4 = digital_one_hot_encoding(dfres, 'bought_d4')\n",
    "dfres = dfres.drop('bought_d4', axis=1)"
   ]
  },
  {
   "cell_type": "code",
   "execution_count": 455,
   "metadata": {},
   "outputs": [
    {
     "data": {
      "text/plain": [
       "(0    281886\n",
       " 1      2789\n",
       " 3       256\n",
       " 4        54\n",
       " 6        12\n",
       " Name: bought_d5, dtype: int64,\n",
       " 5,\n",
       " 6,\n",
       " 0)"
      ]
     },
     "execution_count": 455,
     "metadata": {},
     "output_type": "execute_result"
    }
   ],
   "source": [
    "d = dfres['bought_d5'].value_counts()\n",
    "l = len(d)\n",
    "rmax = dfres['bought_d5'].max()\n",
    "rmin = dfres['bought_d5'].min()\n",
    "d, l, rmax, rmin"
   ]
  },
  {
   "cell_type": "code",
   "execution_count": 456,
   "metadata": {},
   "outputs": [],
   "source": [
    "dfres, codes_bought_d5 = digital_one_hot_encoding(dfres, 'bought_d5')\n",
    "dfres = dfres.drop('bought_d5', axis=1)"
   ]
  },
  {
   "cell_type": "code",
   "execution_count": 457,
   "metadata": {},
   "outputs": [
    {
     "data": {
      "text/plain": [
       "(-1.0      270361\n",
       "  16.0        818\n",
       "  24.0        661\n",
       "  18.0        608\n",
       "  32.0        516\n",
       "            ...  \n",
       "  144.0         2\n",
       "  52.0          2\n",
       "  145.0         1\n",
       "  129.0         1\n",
       "  142.0         1\n",
       " Name: bought_avg_duration, Length: 160, dtype: int64,\n",
       " 160,\n",
       " 186.0,\n",
       " -1.0)"
      ]
     },
     "execution_count": 457,
     "metadata": {},
     "output_type": "execute_result"
    }
   ],
   "source": [
    "d = dfres['bought_avg_duration'].value_counts()\n",
    "l = len(d)\n",
    "rmax = dfres['bought_avg_duration'].max()\n",
    "rmin = dfres['bought_avg_duration'].min()\n",
    "d, l, rmax, rmin"
   ]
  },
  {
   "cell_type": "code",
   "execution_count": 458,
   "metadata": {},
   "outputs": [],
   "source": [
    "dfres, codes_bought_avg_duration = digital_one_hot_encoding(dfres, 'bought_avg_duration')\n",
    "dfres = dfres.drop('bought_avg_duration', axis=1)"
   ]
  },
  {
   "cell_type": "code",
   "execution_count": 459,
   "metadata": {},
   "outputs": [
    {
     "data": {
      "text/plain": [
       "(1    257228\n",
       " 2     27769\n",
       " Name: payment_type, dtype: int64,\n",
       " 2,\n",
       " 2,\n",
       " 1)"
      ]
     },
     "execution_count": 459,
     "metadata": {},
     "output_type": "execute_result"
    }
   ],
   "source": [
    "d = dfres['payment_type'].value_counts()\n",
    "l = len(d)\n",
    "rmax = dfres['payment_type'].max()\n",
    "rmin = dfres['payment_type'].min()\n",
    "d, l, rmax, rmin"
   ]
  },
  {
   "cell_type": "code",
   "execution_count": 460,
   "metadata": {},
   "outputs": [],
   "source": [
    "dfres, codes_payment_type = simple_one_hot_encoding(dfres, 'payment_type')\n",
    "dfres = dfres.drop('payment_type', axis=1)"
   ]
  },
  {
   "cell_type": "code",
   "execution_count": 461,
   "metadata": {},
   "outputs": [
    {
     "data": {
      "text/plain": [
       "(-    197607\n",
       " +     87390\n",
       " Name: promo, dtype: int64,\n",
       " 2,\n",
       " '-',\n",
       " '+')"
      ]
     },
     "execution_count": 461,
     "metadata": {},
     "output_type": "execute_result"
    }
   ],
   "source": [
    "d = dfres['promo'].value_counts()\n",
    "l = len(d)\n",
    "rmax = dfres['promo'].max()\n",
    "rmin = dfres['promo'].min()\n",
    "d, l, rmax, rmin"
   ]
  },
  {
   "cell_type": "code",
   "execution_count": 462,
   "metadata": {},
   "outputs": [],
   "source": [
    "dfres, codes_promo = simple_one_hot_encoding(dfres, 'promo')\n",
    "dfres = dfres.drop('promo', axis=1)"
   ]
  },
  {
   "cell_type": "code",
   "execution_count": 463,
   "metadata": {},
   "outputs": [
    {
     "data": {
      "text/plain": [
       "(20042.95930    4354\n",
       " 24060.81720    2093\n",
       " 30855.91320    2060\n",
       " 22260.63222    2044\n",
       " 29311.57320    1863\n",
       "                ... \n",
       " 69592.48412       1\n",
       " 32835.47977       1\n",
       " 17992.81433       1\n",
       " 56486.83895       1\n",
       " 35676.82790       1\n",
       " Name: price, Length: 7484, dtype: int64,\n",
       " 7484,\n",
       " 125643.3649,\n",
       " 0.0)"
      ]
     },
     "execution_count": 463,
     "metadata": {},
     "output_type": "execute_result"
    }
   ],
   "source": [
    "d = dfres['price'].value_counts()\n",
    "l = len(d)\n",
    "rmax = dfres['price'].max()\n",
    "rmin = dfres['price'].min()\n",
    "d, l, rmax, rmin"
   ]
  },
  {
   "cell_type": "code",
   "execution_count": 464,
   "metadata": {},
   "outputs": [],
   "source": [
    "dfres, codes_price = digital_one_hot_encoding(dfres, 'price')\n",
    "dfres = dfres.drop('price', axis=1)"
   ]
  },
  {
   "cell_type": "code",
   "execution_count": 465,
   "metadata": {},
   "outputs": [
    {
     "data": {
      "text/plain": [
       "(order    172219\n",
       " web       70768\n",
       " phone     39969\n",
       " -1         2041\n",
       " Name: communication_type, dtype: int64,\n",
       " 4)"
      ]
     },
     "execution_count": 465,
     "metadata": {},
     "output_type": "execute_result"
    }
   ],
   "source": [
    "d = dfres['communication_type'].value_counts()\n",
    "l = len(d)\n",
    "#rmax = dfres['communication_type'].max()\n",
    "#rmin = dfres['communication_type'].min()\n",
    "d, l, #rmax, rmin"
   ]
  },
  {
   "cell_type": "code",
   "execution_count": 466,
   "metadata": {},
   "outputs": [],
   "source": [
    "dfres, codes_communication_type = simple_one_hot_encoding(dfres, 'communication_type')\n",
    "dfres = dfres.drop('communication_type', axis=1)"
   ]
  },
  {
   "cell_type": "code",
   "execution_count": 467,
   "metadata": {},
   "outputs": [
    {
     "data": {
      "text/plain": [
       "(0    162505\n",
       " 1    122492\n",
       " Name: auto_payment, dtype: int64,\n",
       " 2)"
      ]
     },
     "execution_count": 467,
     "metadata": {},
     "output_type": "execute_result"
    }
   ],
   "source": [
    "d = dfres['auto_payment'].value_counts()\n",
    "l = len(d)\n",
    "d, l, #rmax, rmin"
   ]
  },
  {
   "cell_type": "code",
   "execution_count": 468,
   "metadata": {},
   "outputs": [],
   "source": [
    "dfres, codes_auto_payment = simple_one_hot_encoding(dfres, 'auto_payment')\n",
    "dfres = dfres.drop('auto_payment', axis=1)"
   ]
  },
  {
   "cell_type": "code",
   "execution_count": 469,
   "metadata": {},
   "outputs": [
    {
     "data": {
      "text/plain": [
       "(D    142848\n",
       " A     65616\n",
       " B     60685\n",
       " C     15848\n",
       " Name: ABC, dtype: int64,\n",
       " 4)"
      ]
     },
     "execution_count": 469,
     "metadata": {},
     "output_type": "execute_result"
    }
   ],
   "source": [
    "d = dfres['ABC'].value_counts()\n",
    "l = len(d)\n",
    "d, l"
   ]
  },
  {
   "cell_type": "code",
   "execution_count": 470,
   "metadata": {},
   "outputs": [],
   "source": [
    "dfres, codes_ABC = simple_one_hot_encoding(dfres, 'ABC')\n",
    "dfres = dfres.drop('ABC', axis=1)"
   ]
  },
  {
   "cell_type": "code",
   "execution_count": 471,
   "metadata": {},
   "outputs": [
    {
     "data": {
      "text/plain": [
       "(-1                  265736\n",
       " Москва                8460\n",
       " Санкт-Петербург       2383\n",
       " Екатеринбург           395\n",
       " Нижний Новгород        313\n",
       "                      ...  \n",
       " Almere                   1\n",
       " Великий Новгород         1\n",
       " Cannes                   1\n",
       " Дербент                  1\n",
       " Piestany                 1\n",
       " Name: city, Length: 280, dtype: int64,\n",
       " 280)"
      ]
     },
     "execution_count": 471,
     "metadata": {},
     "output_type": "execute_result"
    }
   ],
   "source": [
    "d = dfres['city'].value_counts()\n",
    "l = len(d)\n",
    "d, l"
   ]
  },
  {
   "cell_type": "code",
   "execution_count": 472,
   "metadata": {},
   "outputs": [],
   "source": [
    "dfres, codes_city = simple_one_hot_encoding(dfres, 'city')\n",
    "dfres = dfres.drop('city', axis=1)"
   ]
  },
  {
   "cell_type": "code",
   "execution_count": 473,
   "metadata": {},
   "outputs": [
    {
     "data": {
      "text/plain": [
       "(-1                       266630\n",
       " Россия                    16679\n",
       " Беларусь                    286\n",
       " РФ                          282\n",
       " Казахстан                   227\n",
       " Украина                     195\n",
       " Кыргызстан                   64\n",
       " Росссия                      64\n",
       " Кипр                         58\n",
       " Латвия                       48\n",
       " Германия                     37\n",
       " Китай                        32\n",
       " Франция                      32\n",
       " Чешская Республика           31\n",
       " Бельгия                      27\n",
       " Швейцария                    26\n",
       " Испания                      25\n",
       " <span>Россия</span>          24\n",
       " США                          22\n",
       " Польша                       19\n",
       " Латвия                       17\n",
       " Люксембург                   16\n",
       " Великобритания               16\n",
       " Литва                        15\n",
       " Канада                       14\n",
       " Турция                       13\n",
       " Чили                         13\n",
       " Израиль                      12\n",
       " Италия                       10\n",
       " Кыргызская Республика        10\n",
       " Нидерланды                    9\n",
       " Япония                        7\n",
       " Финляндия                     7\n",
       " Эстония                       6\n",
       " Netherlands                   5\n",
       " Словакия                      5\n",
       " Республика Беларусь           5\n",
       " Узбекистан                    3\n",
       " Молдова                       3\n",
       " Черногория                    3\n",
       " Name: country, dtype: int64,\n",
       " 40)"
      ]
     },
     "execution_count": 473,
     "metadata": {},
     "output_type": "execute_result"
    }
   ],
   "source": [
    "d = dfres['country'].value_counts()\n",
    "l = len(d)\n",
    "#rmax = dfres['price'].max()\n",
    "#rmin = dfres['price'].min()\n",
    "d, l, #rmax, rmin"
   ]
  },
  {
   "cell_type": "code",
   "execution_count": 474,
   "metadata": {},
   "outputs": [],
   "source": [
    "dfres, codes_country = simple_one_hot_encoding(dfres, 'country')\n",
    "dfres = dfres.drop('country', axis=1)"
   ]
  },
  {
   "cell_type": "code",
   "execution_count": 475,
   "metadata": {},
   "outputs": [
    {
     "data": {
      "text/plain": [
       "( 0.0    124882\n",
       "  1.0     98534\n",
       "  2.0     61502\n",
       " -1.0        79\n",
       " Name: gender, dtype: int64,\n",
       " 4)"
      ]
     },
     "execution_count": 475,
     "metadata": {},
     "output_type": "execute_result"
    }
   ],
   "source": [
    "d = dfres['gender'].value_counts()\n",
    "l = len(d)\n",
    "rmax = dfres['gender'].max()\n",
    "rmin = dfres['gender'].min()\n",
    "d, l, #rmax, rmin"
   ]
  },
  {
   "cell_type": "code",
   "execution_count": 476,
   "metadata": {},
   "outputs": [],
   "source": [
    "dfres, codes_gender = simple_one_hot_encoding(dfres, 'gender')\n",
    "dfres = dfres.drop('gender', axis=1)"
   ]
  },
  {
   "cell_type": "code",
   "execution_count": 477,
   "metadata": {},
   "outputs": [
    {
     "data": {
      "text/plain": [
       "(-1.0    253834\n",
       "  1.0     28032\n",
       "  4.0       829\n",
       "  3.0       712\n",
       "  2.0       650\n",
       "  5.0       564\n",
       "  6.0       278\n",
       "  7.0        98\n",
       " Name: speed_recall, dtype: int64,\n",
       " 8,\n",
       " 7.0,\n",
       " -1.0)"
      ]
     },
     "execution_count": 477,
     "metadata": {},
     "output_type": "execute_result"
    }
   ],
   "source": [
    "d = dfres['speed_recall'].value_counts()\n",
    "l = len(d)\n",
    "rmax = dfres['speed_recall'].max()\n",
    "rmin = dfres['speed_recall'].min()\n",
    "d, l, rmax, rmin"
   ]
  },
  {
   "cell_type": "code",
   "execution_count": 478,
   "metadata": {},
   "outputs": [],
   "source": [
    "dfres, codes_speed_recall = digital_one_hot_encoding(dfres, 'speed_recall')\n",
    "dfres = dfres.drop('speed_recall', axis=1)"
   ]
  },
  {
   "cell_type": "code",
   "execution_count": 479,
   "metadata": {},
   "outputs": [
    {
     "data": {
      "text/plain": [
       "(-1           174597\n",
       " Windows       52704\n",
       " iOS           22323\n",
       " Android       20040\n",
       " Mac OS X      14430\n",
       " Linux           641\n",
       " Ubuntu          220\n",
       " Chrome OS        21\n",
       " Fedora           21\n",
       " Name: os, dtype: int64,\n",
       " 9)"
      ]
     },
     "execution_count": 479,
     "metadata": {},
     "output_type": "execute_result"
    }
   ],
   "source": [
    "d = dfres['os'].value_counts()\n",
    "l = len(d)\n",
    "d, l"
   ]
  },
  {
   "cell_type": "code",
   "execution_count": 480,
   "metadata": {},
   "outputs": [],
   "source": [
    "dfres, codes_os = simple_one_hot_encoding(dfres, 'os')\n",
    "dfres = dfres.drop('os', axis=1)"
   ]
  },
  {
   "cell_type": "code",
   "execution_count": 481,
   "metadata": {},
   "outputs": [
    {
     "data": {
      "text/plain": [
       "(-1                            174597\n",
       " Chrome                         43660\n",
       " Mobile Safari                  17585\n",
       " Chrome Mobile                  11742\n",
       " Yandex Browser                 11689\n",
       " Safari                          7383\n",
       " Firefox                         3851\n",
       " Opera                           3420\n",
       " Edge                            2674\n",
       " Instagram                       2324\n",
       " Samsung Internet                1808\n",
       " Chrome Mobile iOS               1431\n",
       " MiuiBrowser                      855\n",
       " Google                           546\n",
       " Facebook                         416\n",
       " Opera Mobile                     337\n",
       " Chrome Mobile WebView            232\n",
       " Firefox Mobile                   171\n",
       " YandexSearch                      73\n",
       " HeadlessChrome                    48\n",
       " Mobile Safari UI/WKWebView        43\n",
       " Firefox iOS                       37\n",
       " Edge Mobile                       30\n",
       " Chromium                          17\n",
       " UC Browser                        11\n",
       " Iron                               9\n",
       " Android                            6\n",
       " Pale Moon                          2\n",
       " Name: browser, dtype: int64,\n",
       " 28)"
      ]
     },
     "execution_count": 481,
     "metadata": {},
     "output_type": "execute_result"
    }
   ],
   "source": [
    "d = dfres['browser'].value_counts()\n",
    "l = len(d)\n",
    "d, l"
   ]
  },
  {
   "cell_type": "code",
   "execution_count": 482,
   "metadata": {},
   "outputs": [],
   "source": [
    "dfres, codes_browser = simple_one_hot_encoding(dfres, 'browser')\n",
    "dfres = dfres.drop('browser', axis=1)"
   ]
  },
  {
   "cell_type": "code",
   "execution_count": 483,
   "metadata": {},
   "outputs": [
    {
     "data": {
      "text/plain": [
       "(-1        174618\n",
       " pc         68016\n",
       " mobile     41690\n",
       " tablet       673\n",
       " Name: platform, dtype: int64,\n",
       " 4)"
      ]
     },
     "execution_count": 483,
     "metadata": {},
     "output_type": "execute_result"
    }
   ],
   "source": [
    "d = dfres['platform'].value_counts()\n",
    "l = len(d)\n",
    "d, l"
   ]
  },
  {
   "cell_type": "code",
   "execution_count": 484,
   "metadata": {},
   "outputs": [],
   "source": [
    "dfres, codes_platform = simple_one_hot_encoding(dfres, 'platform')\n",
    "dfres = dfres.drop('platform', axis=1)"
   ]
  },
  {
   "cell_type": "code",
   "execution_count": 485,
   "metadata": {},
   "outputs": [
    {
     "data": {
      "text/plain": [
       "(-1.0000      211552\n",
       "  0.0000        8424\n",
       "  3.0000         381\n",
       "  5.0000         316\n",
       "  6.0000         305\n",
       "               ...  \n",
       "  846.5000         1\n",
       "  236.7500         1\n",
       "  486.9942         1\n",
       "  287.5000         1\n",
       "  126.8000         1\n",
       " Name: m_avg_talk_duration, Length: 5368, dtype: int64,\n",
       " 5368,\n",
       " 3658.7811,\n",
       " -1.0)"
      ]
     },
     "execution_count": 485,
     "metadata": {},
     "output_type": "execute_result"
    }
   ],
   "source": [
    "d = dfres['m_avg_talk_duration'].value_counts()\n",
    "l = len(d)\n",
    "rmax = dfres['m_avg_talk_duration'].max()\n",
    "rmin = dfres['m_avg_talk_duration'].min()\n",
    "d, l, rmax, rmin"
   ]
  },
  {
   "cell_type": "code",
   "execution_count": 486,
   "metadata": {},
   "outputs": [],
   "source": [
    "dfres, codes_m_avg_talk_duration = digital_one_hot_encoding(dfres, 'm_avg_talk_duration')\n",
    "dfres = dfres.drop('m_avg_talk_duration', axis=1)"
   ]
  },
  {
   "cell_type": "code",
   "execution_count": 487,
   "metadata": {},
   "outputs": [
    {
     "data": {
      "text/plain": [
       "(-1.000000      261415\n",
       "  0.000000        4270\n",
       "  38.000000        286\n",
       "  42.000000        242\n",
       "  26.000000        223\n",
       "                 ...  \n",
       "  67.989450          1\n",
       "  164.439600         1\n",
       "  12.122150          1\n",
       "  199.000000         1\n",
       "  56.333333          1\n",
       " Name: p_avg_talk_duration, Length: 767, dtype: int64,\n",
       " 767,\n",
       " 395.0,\n",
       " -1.0)"
      ]
     },
     "execution_count": 487,
     "metadata": {},
     "output_type": "execute_result"
    }
   ],
   "source": [
    "d = dfres['p_avg_talk_duration'].value_counts()\n",
    "l = len(d)\n",
    "rmax = dfres['p_avg_talk_duration'].max()\n",
    "rmin = dfres['p_avg_talk_duration'].min()\n",
    "d, l, rmax, rmin"
   ]
  },
  {
   "cell_type": "code",
   "execution_count": 488,
   "metadata": {},
   "outputs": [],
   "source": [
    "dfres, codes_p_avg_talk_duration = digital_one_hot_encoding(dfres, 'p_avg_talk_duration')\n",
    "dfres = dfres.drop('p_avg_talk_duration', axis=1)"
   ]
  },
  {
   "cell_type": "code",
   "execution_count": 489,
   "metadata": {},
   "outputs": [
    {
     "data": {
      "text/plain": [
       "(-1.000       219858\n",
       "  3.000          437\n",
       "  5.000          428\n",
       "  4.000          339\n",
       "  6.000          299\n",
       "               ...  \n",
       "  286.750          1\n",
       "  1549.527         1\n",
       "  32.250           1\n",
       "  185.250          1\n",
       "  126.800          1\n",
       " Name: m_avg_duration, Length: 4873, dtype: int64,\n",
       " 4873,\n",
       " 3658.7811,\n",
       " -1.0)"
      ]
     },
     "execution_count": 489,
     "metadata": {},
     "output_type": "execute_result"
    }
   ],
   "source": [
    "d = dfres['m_avg_duration'].value_counts()\n",
    "l = len(d)\n",
    "rmax = dfres['m_avg_duration'].max()\n",
    "rmin = dfres['m_avg_duration'].min()\n",
    "d, l, rmax, rmin"
   ]
  },
  {
   "cell_type": "code",
   "execution_count": 490,
   "metadata": {},
   "outputs": [],
   "source": [
    "dfres, codes_m_avg_duration = digital_one_hot_encoding(dfres, 'm_avg_duration')\n",
    "dfres = dfres.drop('m_avg_duration', axis=1)"
   ]
  },
  {
   "cell_type": "code",
   "execution_count": 491,
   "metadata": {},
   "outputs": [],
   "source": [
    "dfres, codes_p_avg_duration = digital_one_hot_encoding(dfres, 'p_avg_duration')\n",
    "dfres = dfres.drop('p_avg_duration', axis=1)"
   ]
  },
  {
   "cell_type": "code",
   "execution_count": 492,
   "metadata": {},
   "outputs": [
    {
     "data": {
      "text/plain": [
       "(-1.0     211552\n",
       "  0.0      44028\n",
       "  1.0      13157\n",
       "  2.0       6185\n",
       "  3.0       5071\n",
       "  4.0       2036\n",
       "  5.0        991\n",
       "  6.0        741\n",
       "  7.0        346\n",
       "  8.0        226\n",
       "  11.0       191\n",
       "  10.0        99\n",
       "  9.0         94\n",
       "  21.0        49\n",
       "  13.0        44\n",
       "  38.0        32\n",
       "  14.0        19\n",
       "  17.0        19\n",
       "  18.0        17\n",
       "  16.0        16\n",
       "  26.0        15\n",
       "  12.0        13\n",
       "  15.0        12\n",
       "  24.0        11\n",
       "  19.0         9\n",
       "  41.0         6\n",
       "  33.0         6\n",
       "  42.0         5\n",
       "  20.0         4\n",
       "  52.0         2\n",
       "  22.0         1\n",
       " Name: m_missed_calls, dtype: int64,\n",
       " 31,\n",
       " 52.0,\n",
       " -1.0)"
      ]
     },
     "execution_count": 492,
     "metadata": {},
     "output_type": "execute_result"
    }
   ],
   "source": [
    "d = dfres['m_missed_calls'].value_counts()\n",
    "l = len(d)\n",
    "rmax = dfres['m_missed_calls'].max()\n",
    "rmin = dfres['m_missed_calls'].min()\n",
    "d, l, rmax, rmin"
   ]
  },
  {
   "cell_type": "code",
   "execution_count": 493,
   "metadata": {},
   "outputs": [],
   "source": [
    "dfres, codes_m_missed_calls = digital_one_hot_encoding(dfres, 'm_missed_calls')\n",
    "dfres = dfres.drop('m_missed_calls', axis=1)"
   ]
  },
  {
   "cell_type": "code",
   "execution_count": 494,
   "metadata": {},
   "outputs": [
    {
     "data": {
      "text/plain": [
       "(-1.0     261415\n",
       "  0.0      15929\n",
       "  1.0       4531\n",
       "  2.0       1313\n",
       "  3.0        526\n",
       "  4.0        362\n",
       "  5.0        285\n",
       "  6.0        154\n",
       "  7.0        133\n",
       "  10.0       100\n",
       "  8.0         83\n",
       "  11.0        43\n",
       "  58.0        32\n",
       "  19.0        20\n",
       "  9.0         18\n",
       "  15.0        12\n",
       "  17.0        12\n",
       "  63.0        11\n",
       "  16.0         9\n",
       "  12.0         9\n",
       " Name: p_missed_calls, dtype: int64,\n",
       " 20,\n",
       " 63.0,\n",
       " -1.0)"
      ]
     },
     "execution_count": 494,
     "metadata": {},
     "output_type": "execute_result"
    }
   ],
   "source": [
    "d = dfres['p_missed_calls'].value_counts()\n",
    "l = len(d)\n",
    "rmax = dfres['p_missed_calls'].max()\n",
    "rmin = dfres['p_missed_calls'].min()\n",
    "d, l, rmax, rmin"
   ]
  },
  {
   "cell_type": "code",
   "execution_count": 495,
   "metadata": {},
   "outputs": [],
   "source": [
    "dfres, codes_p_missed_calls = digital_one_hot_encoding(dfres, 'p_missed_calls')\n",
    "dfres = dfres.drop('p_missed_calls', axis=1)"
   ]
  },
  {
   "cell_type": "code",
   "execution_count": 496,
   "metadata": {},
   "outputs": [
    {
     "data": {
      "text/plain": [
       "(-1.0     211552\n",
       "  1.0      24021\n",
       "  2.0      16980\n",
       "  3.0      14134\n",
       "  4.0       6191\n",
       "  5.0       3578\n",
       "  6.0       2719\n",
       "  7.0       1446\n",
       "  8.0       1234\n",
       "  9.0        784\n",
       "  10.0       530\n",
       "  11.0       446\n",
       "  13.0       251\n",
       "  12.0       184\n",
       "  15.0       143\n",
       "  14.0       127\n",
       "  17.0       108\n",
       "  16.0       105\n",
       "  23.0        78\n",
       "  21.0        74\n",
       "  19.0        54\n",
       "  18.0        48\n",
       "  20.0        39\n",
       "  22.0        28\n",
       "  39.0        27\n",
       "  24.0        21\n",
       "  28.0        21\n",
       "  52.0        15\n",
       "  25.0         8\n",
       "  32.0         7\n",
       "  26.0         6\n",
       "  42.0         6\n",
       "  58.0         6\n",
       "  40.0         5\n",
       "  29.0         5\n",
       "  33.0         5\n",
       "  45.0         5\n",
       "  80.0         2\n",
       "  27.0         2\n",
       "  36.0         1\n",
       "  35.0         1\n",
       " Name: m_total_calls, dtype: int64,\n",
       " 41,\n",
       " 80.0,\n",
       " -1.0)"
      ]
     },
     "execution_count": 496,
     "metadata": {},
     "output_type": "execute_result"
    }
   ],
   "source": [
    "d = dfres['m_total_calls'].value_counts()\n",
    "l = len(d)\n",
    "rmax = dfres['m_total_calls'].max()\n",
    "rmin = dfres['m_total_calls'].min()\n",
    "d, l, rmax, rmin"
   ]
  },
  {
   "cell_type": "code",
   "execution_count": 497,
   "metadata": {},
   "outputs": [],
   "source": [
    "dfres, codes_m_total_calls = digital_one_hot_encoding(dfres, 'm_total_calls')\n",
    "dfres = dfres.drop('m_total_calls', axis=1)"
   ]
  },
  {
   "cell_type": "code",
   "execution_count": 498,
   "metadata": {},
   "outputs": [
    {
     "data": {
      "text/plain": [
       "(-1.0     261415\n",
       "  1.0      12398\n",
       "  2.0       6898\n",
       "  3.0       1919\n",
       "  4.0        795\n",
       "  5.0        525\n",
       "  6.0        350\n",
       "  7.0        214\n",
       "  8.0        135\n",
       "  10.0        90\n",
       "  11.0        52\n",
       "  9.0         42\n",
       "  12.0        32\n",
       "  58.0        32\n",
       "  19.0        20\n",
       "  23.0        12\n",
       "  18.0        12\n",
       "  17.0        12\n",
       "  63.0        11\n",
       "  22.0        10\n",
       "  44.0         9\n",
       "  15.0         8\n",
       "  20.0         4\n",
       "  28.0         2\n",
       " Name: p_total_calls, dtype: int64,\n",
       " 24,\n",
       " 63.0,\n",
       " -1.0)"
      ]
     },
     "execution_count": 498,
     "metadata": {},
     "output_type": "execute_result"
    }
   ],
   "source": [
    "d = dfres['p_total_calls'].value_counts()\n",
    "l = len(d)\n",
    "rmax = dfres['p_total_calls'].max()\n",
    "rmin = dfres['p_total_calls'].min()\n",
    "d, l, rmax, rmin"
   ]
  },
  {
   "cell_type": "code",
   "execution_count": 499,
   "metadata": {},
   "outputs": [],
   "source": [
    "dfres, codes_p_total_calls = digital_one_hot_encoding(dfres, 'p_total_calls')\n",
    "dfres = dfres.drop('p_total_calls', axis=1)"
   ]
  },
  {
   "cell_type": "code",
   "execution_count": 500,
   "metadata": {},
   "outputs": [
    {
     "data": {
      "text/plain": [
       "(-1.0     211552\n",
       "  1.0      29458\n",
       "  2.0      15773\n",
       "  3.0       9823\n",
       "  0.0       8306\n",
       "  4.0       4048\n",
       "  5.0       2150\n",
       "  6.0       1420\n",
       "  7.0        768\n",
       "  8.0        568\n",
       "  9.0        423\n",
       "  10.0       215\n",
       "  11.0       124\n",
       "  12.0       100\n",
       "  13.0        97\n",
       "  15.0        40\n",
       "  14.0        35\n",
       "  26.0        15\n",
       "  23.0        15\n",
       "  20.0        14\n",
       "  19.0        11\n",
       "  17.0        10\n",
       "  16.0         8\n",
       "  25.0         6\n",
       "  29.0         5\n",
       "  21.0         5\n",
       "  18.0         3\n",
       "  28.0         2\n",
       "  22.0         2\n",
       "  32.0         1\n",
       " Name: m_was_conversations, dtype: int64,\n",
       " 30,\n",
       " 32.0,\n",
       " -1.0)"
      ]
     },
     "execution_count": 500,
     "metadata": {},
     "output_type": "execute_result"
    }
   ],
   "source": [
    "d = dfres['m_was_conversations'].value_counts()\n",
    "l = len(d)\n",
    "rmax = dfres['m_was_conversations'].max()\n",
    "rmin = dfres['m_was_conversations'].min()\n",
    "d, l, rmax, rmin"
   ]
  },
  {
   "cell_type": "code",
   "execution_count": 501,
   "metadata": {},
   "outputs": [],
   "source": [
    "dfres, codes_m_was_conversations = digital_one_hot_encoding(dfres, 'm_was_conversations')\n",
    "dfres = dfres.drop('m_was_conversations', axis=1)"
   ]
  },
  {
   "cell_type": "code",
   "execution_count": 502,
   "metadata": {},
   "outputs": [
    {
     "data": {
      "text/plain": [
       "(-1.0     261415\n",
       "  1.0      11714\n",
       "  2.0       6111\n",
       "  0.0       4227\n",
       "  3.0       1038\n",
       "  4.0        287\n",
       "  5.0        113\n",
       "  7.0         27\n",
       "  6.0         24\n",
       "  19.0        10\n",
       "  18.0        10\n",
       "  28.0         9\n",
       "  9.0          6\n",
       "  8.0          4\n",
       "  17.0         2\n",
       " Name: p_was_conversations, dtype: int64,\n",
       " 15,\n",
       " 28.0,\n",
       " -1.0)"
      ]
     },
     "execution_count": 502,
     "metadata": {},
     "output_type": "execute_result"
    }
   ],
   "source": [
    "d = dfres['p_was_conversations'].value_counts()\n",
    "l = len(d)\n",
    "rmax = dfres['p_was_conversations'].max()\n",
    "rmin = dfres['p_was_conversations'].min()\n",
    "d, l, rmax, rmin"
   ]
  },
  {
   "cell_type": "code",
   "execution_count": 503,
   "metadata": {},
   "outputs": [],
   "source": [
    "dfres, codes_p_was_conversations = digital_one_hot_encoding(dfres, 'p_was_conversations')\n",
    "dfres = dfres.drop('p_was_conversations', axis=1)"
   ]
  },
  {
   "cell_type": "code",
   "execution_count": 504,
   "metadata": {},
   "outputs": [
    {
     "data": {
      "text/plain": [
       "(-1.000000       211552\n",
       "  0.000000         8424\n",
       "  7.000000          469\n",
       "  10.000000         421\n",
       "  9.000000          382\n",
       "                  ...  \n",
       "  263.103360          1\n",
       "  1868.571429         1\n",
       "  203.250000          1\n",
       "  747.708267          1\n",
       "  138.500000          1\n",
       " Name: m_total_duration, Length: 5057, dtype: int64,\n",
       " 5057,\n",
       " 7089.8766,\n",
       " -1.0)"
      ]
     },
     "execution_count": 504,
     "metadata": {},
     "output_type": "execute_result"
    }
   ],
   "source": [
    "d = dfres['m_total_duration'].value_counts()\n",
    "l = len(d)\n",
    "rmax = dfres['m_total_duration'].max()\n",
    "rmin = dfres['m_total_duration'].min()\n",
    "d, l, rmax, rmin"
   ]
  },
  {
   "cell_type": "code",
   "execution_count": 505,
   "metadata": {},
   "outputs": [],
   "source": [
    "dfres, codes_m_total_duration = digital_one_hot_encoding(dfres, 'm_total_duration')\n",
    "dfres = dfres.drop('m_total_duration', axis=1)"
   ]
  },
  {
   "cell_type": "code",
   "execution_count": 506,
   "metadata": {},
   "outputs": [
    {
     "data": {
      "text/plain": [
       "(-1.000000      261415\n",
       "  0.000000        4270\n",
       "  47.000000        278\n",
       "  46.000000        278\n",
       "  38.000000        268\n",
       "                 ...  \n",
       "  187.000000         1\n",
       "  20.730633          1\n",
       "  110.680500         1\n",
       "  186.000000         1\n",
       "  112.666667         1\n",
       " Name: p_total_duration, Length: 712, dtype: int64,\n",
       " 712,\n",
       " 395.0,\n",
       " -1.0)"
      ]
     },
     "execution_count": 506,
     "metadata": {},
     "output_type": "execute_result"
    }
   ],
   "source": [
    "d = dfres['p_total_duration'].value_counts()\n",
    "l = len(d)\n",
    "rmax = dfres['p_total_duration'].max()\n",
    "rmin = dfres['p_total_duration'].min()\n",
    "d, l, rmax, rmin"
   ]
  },
  {
   "cell_type": "code",
   "execution_count": 507,
   "metadata": {},
   "outputs": [],
   "source": [
    "dfres, codes_p_total_duration = digital_one_hot_encoding(dfres, 'p_total_duration')\n",
    "dfres = dfres.drop('p_total_duration', axis=1)"
   ]
  },
  {
   "cell_type": "code",
   "execution_count": 508,
   "metadata": {},
   "outputs": [
    {
     "data": {
      "text/plain": [
       "(-1.000000    231691\n",
       "  5.000000     39237\n",
       "  4.715000     10086\n",
       "  4.000000      1066\n",
       "  1.000000       476\n",
       "               ...  \n",
       "  4.569923         1\n",
       "  4.100000         1\n",
       "  4.818182         1\n",
       "  2.714286         1\n",
       "  4.659529         1\n",
       " Name: support_feedback_avg, Length: 93, dtype: int64,\n",
       " 93,\n",
       " 5.0,\n",
       " -1.0)"
      ]
     },
     "execution_count": 508,
     "metadata": {},
     "output_type": "execute_result"
    }
   ],
   "source": [
    "d = dfres['support_feedback_avg'].value_counts()\n",
    "l = len(d)\n",
    "rmax = dfres['support_feedback_avg'].max()\n",
    "rmin = dfres['support_feedback_avg'].min()\n",
    "d, l, rmax, rmin"
   ]
  },
  {
   "cell_type": "code",
   "execution_count": 509,
   "metadata": {},
   "outputs": [],
   "source": [
    "dfres, codes_support_feedback_avg = digital_one_hot_encoding(dfres, 'support_feedback_avg')\n",
    "dfres = dfres.drop('support_feedback_avg', axis=1)"
   ]
  },
  {
   "cell_type": "code",
   "execution_count": 510,
   "metadata": {},
   "outputs": [
    {
     "data": {
      "text/plain": [
       "(-1.000000    215851\n",
       "  5.000000     25965\n",
       "  4.000000      7283\n",
       "  4.715000      6032\n",
       "  4.500000      2407\n",
       "               ...  \n",
       "  3.384615         1\n",
       "  4.169053         1\n",
       "  4.347826         1\n",
       "  1.714286         1\n",
       "  3.736842         1\n",
       " Name: feedback_avg_d1, Length: 1202, dtype: int64,\n",
       " 1202,\n",
       " 5.0,\n",
       " -1.0)"
      ]
     },
     "execution_count": 510,
     "metadata": {},
     "output_type": "execute_result"
    }
   ],
   "source": [
    "d = dfres['feedback_avg_d1'].value_counts()\n",
    "l = len(d)\n",
    "rmax = dfres['feedback_avg_d1'].max()\n",
    "rmin = dfres['feedback_avg_d1'].min()\n",
    "d, l, rmax, rmin"
   ]
  },
  {
   "cell_type": "code",
   "execution_count": 511,
   "metadata": {},
   "outputs": [],
   "source": [
    "dfres, codes_feedback_avg_d1 = digital_one_hot_encoding(dfres, 'feedback_avg_d1')\n",
    "dfres = dfres.drop('feedback_avg_d1', axis=1)"
   ]
  },
  {
   "cell_type": "code",
   "execution_count": 512,
   "metadata": {},
   "outputs": [
    {
     "data": {
      "text/plain": [
       "(-1.000000    263955\n",
       "  5.000000      6268\n",
       "  4.000000      2515\n",
       "  4.715000      1744\n",
       "  4.500000       698\n",
       "               ...  \n",
       "  3.894241         1\n",
       "  3.526316         1\n",
       "  4.409091         1\n",
       "  3.562444         1\n",
       "  3.611111         1\n",
       " Name: feedback_avg_d2, Length: 664, dtype: int64,\n",
       " 664,\n",
       " 5.0,\n",
       " -1.0)"
      ]
     },
     "execution_count": 512,
     "metadata": {},
     "output_type": "execute_result"
    }
   ],
   "source": [
    "d = dfres['feedback_avg_d2'].value_counts()\n",
    "l = len(d)\n",
    "rmax = dfres['feedback_avg_d2'].max()\n",
    "rmin = dfres['feedback_avg_d2'].min()\n",
    "d, l, rmax, rmin"
   ]
  },
  {
   "cell_type": "code",
   "execution_count": 513,
   "metadata": {},
   "outputs": [],
   "source": [
    "dfres, codes_feedback_avg_d2 = digital_one_hot_encoding(dfres, 'feedback_avg_d2')\n",
    "dfres = dfres.drop('feedback_avg_d2', axis=1)"
   ]
  },
  {
   "cell_type": "code",
   "execution_count": 514,
   "metadata": {},
   "outputs": [
    {
     "data": {
      "text/plain": [
       "(-1.000000    259579\n",
       "  5.000000      9221\n",
       "  4.000000      2452\n",
       "  4.715000      1985\n",
       "  4.500000       953\n",
       "               ...  \n",
       "  4.380387         1\n",
       "  4.117647         1\n",
       "  4.942308         1\n",
       "  3.969697         1\n",
       "  3.620690         1\n",
       " Name: feedback_avg_d3, Length: 847, dtype: int64,\n",
       " 847,\n",
       " 5.0,\n",
       " -1.0)"
      ]
     },
     "execution_count": 514,
     "metadata": {},
     "output_type": "execute_result"
    }
   ],
   "source": [
    "d = dfres['feedback_avg_d3'].value_counts()\n",
    "l = len(d)\n",
    "rmax = dfres['feedback_avg_d3'].max()\n",
    "rmin = dfres['feedback_avg_d3'].min()\n",
    "d, l, rmax, rmin"
   ]
  },
  {
   "cell_type": "code",
   "execution_count": 515,
   "metadata": {},
   "outputs": [],
   "source": [
    "dfres, codes_feedback_avg_d3 = digital_one_hot_encoding(dfres, 'feedback_avg_d3')\n",
    "dfres = dfres.drop('feedback_avg_d3', axis=1)"
   ]
  },
  {
   "cell_type": "code",
   "execution_count": 516,
   "metadata": {},
   "outputs": [
    {
     "data": {
      "text/plain": [
       "(-1.000000    249243\n",
       "  5.000000     12643\n",
       "  4.000000      3294\n",
       "  4.715000      3064\n",
       "  4.500000      1152\n",
       "               ...  \n",
       "  4.646418         1\n",
       "  3.689281         1\n",
       "  4.064516         1\n",
       "  4.705755         1\n",
       "  3.466667         1\n",
       " Name: feedback_avg_d4, Length: 1248, dtype: int64,\n",
       " 1248,\n",
       " 5.0,\n",
       " -1.0)"
      ]
     },
     "execution_count": 516,
     "metadata": {},
     "output_type": "execute_result"
    }
   ],
   "source": [
    "d = dfres['feedback_avg_d4'].value_counts()\n",
    "l = len(d)\n",
    "rmax = dfres['feedback_avg_d4'].max()\n",
    "rmin = dfres['feedback_avg_d4'].min()\n",
    "d, l, rmax, rmin"
   ]
  },
  {
   "cell_type": "code",
   "execution_count": 517,
   "metadata": {},
   "outputs": [],
   "source": [
    "dfres, codes_feedback_avg_d4 = digital_one_hot_encoding(dfres, 'feedback_avg_d4')\n",
    "dfres = dfres.drop('feedback_avg_d4', axis=1)"
   ]
  },
  {
   "cell_type": "code",
   "execution_count": 518,
   "metadata": {},
   "outputs": [
    {
     "data": {
      "text/plain": [
       "(-1.000000    262508\n",
       "  5.000000      8204\n",
       "  4.000000      2663\n",
       "  4.715000      2170\n",
       "  4.500000       639\n",
       "               ...  \n",
       "  3.047619         1\n",
       "  4.657143         1\n",
       "  4.649966         1\n",
       "  4.160000         1\n",
       "  4.562903         1\n",
       " Name: feedback_avg_d5, Length: 826, dtype: int64,\n",
       " 826,\n",
       " 5.0,\n",
       " -1.0)"
      ]
     },
     "execution_count": 518,
     "metadata": {},
     "output_type": "execute_result"
    }
   ],
   "source": [
    "d = dfres['feedback_avg_d5'].value_counts()\n",
    "l = len(d)\n",
    "rmax = dfres['feedback_avg_d5'].max()\n",
    "rmin = dfres['feedback_avg_d5'].min()\n",
    "d, l, rmax, rmin"
   ]
  },
  {
   "cell_type": "code",
   "execution_count": 519,
   "metadata": {},
   "outputs": [],
   "source": [
    "dfres, codes_feedback_avg_d5 = digital_one_hot_encoding(dfres, 'feedback_avg_d5')\n",
    "dfres = dfres.drop('feedback_avg_d5', axis=1)"
   ]
  },
  {
   "cell_type": "code",
   "execution_count": 520,
   "metadata": {},
   "outputs": [],
   "source": [
    "dfres.to_csv(\"RSF_dfres.csv\", index=True)"
   ]
  },
  {
   "cell_type": "code",
   "execution_count": 521,
   "metadata": {},
   "outputs": [
    {
     "name": "stdout",
     "output_type": "stream",
     "text": [
      "<class 'pandas.core.frame.DataFrame'>\n",
      "RangeIndex: 284997 entries, 0 to 284996\n",
      "Columns: 1912 entries, id to feedback_avg_d55\n",
      "dtypes: float64(1), int64(2), int8(1909)\n",
      "memory usage: 525.4 MB\n"
     ]
    }
   ],
   "source": [
    "dfres.info()"
   ]
  },
  {
   "cell_type": "code",
   "execution_count": 522,
   "metadata": {},
   "outputs": [],
   "source": [
    "dfres, codes_target = simple_one_hot_encoding(dfres, 'target')"
   ]
  },
  {
   "cell_type": "code",
   "execution_count": 523,
   "metadata": {},
   "outputs": [],
   "source": [
    "dfres = dfres.drop('target', axis=1)"
   ]
  },
  {
   "cell_type": "code",
   "execution_count": 524,
   "metadata": {},
   "outputs": [
    {
     "data": {
      "text/html": [
       "<div>\n",
       "<style scoped>\n",
       "    .dataframe tbody tr th:only-of-type {\n",
       "        vertical-align: middle;\n",
       "    }\n",
       "\n",
       "    .dataframe tbody tr th {\n",
       "        vertical-align: top;\n",
       "    }\n",
       "\n",
       "    .dataframe thead th {\n",
       "        text-align: right;\n",
       "    }\n",
       "</style>\n",
       "<table border=\"1\" class=\"dataframe\">\n",
       "  <thead>\n",
       "    <tr style=\"text-align: right;\">\n",
       "      <th></th>\n",
       "      <th>id</th>\n",
       "      <th>student_id</th>\n",
       "      <th>age_indicator0</th>\n",
       "      <th>age_indicator1</th>\n",
       "      <th>age_indicator2</th>\n",
       "      <th>age_indicator3</th>\n",
       "      <th>age_indicator4</th>\n",
       "      <th>age_indicator5</th>\n",
       "      <th>age_indicator6</th>\n",
       "      <th>age_indicator7</th>\n",
       "      <th>...</th>\n",
       "      <th>feedback_avg_d52</th>\n",
       "      <th>feedback_avg_d53</th>\n",
       "      <th>feedback_avg_d54</th>\n",
       "      <th>feedback_avg_d55</th>\n",
       "      <th>target0</th>\n",
       "      <th>target1</th>\n",
       "      <th>target2</th>\n",
       "      <th>target3</th>\n",
       "      <th>target4</th>\n",
       "      <th>target5</th>\n",
       "    </tr>\n",
       "  </thead>\n",
       "  <tbody>\n",
       "    <tr>\n",
       "      <th>0</th>\n",
       "      <td>15182</td>\n",
       "      <td>6694527</td>\n",
       "      <td>0</td>\n",
       "      <td>0</td>\n",
       "      <td>0</td>\n",
       "      <td>0</td>\n",
       "      <td>0</td>\n",
       "      <td>0</td>\n",
       "      <td>0</td>\n",
       "      <td>0</td>\n",
       "      <td>...</td>\n",
       "      <td>0</td>\n",
       "      <td>0</td>\n",
       "      <td>0</td>\n",
       "      <td>0</td>\n",
       "      <td>1</td>\n",
       "      <td>0</td>\n",
       "      <td>0</td>\n",
       "      <td>0</td>\n",
       "      <td>0</td>\n",
       "      <td>0</td>\n",
       "    </tr>\n",
       "    <tr>\n",
       "      <th>1</th>\n",
       "      <td>89385</td>\n",
       "      <td>6712877</td>\n",
       "      <td>0</td>\n",
       "      <td>0</td>\n",
       "      <td>0</td>\n",
       "      <td>0</td>\n",
       "      <td>0</td>\n",
       "      <td>0</td>\n",
       "      <td>0</td>\n",
       "      <td>0</td>\n",
       "      <td>...</td>\n",
       "      <td>0</td>\n",
       "      <td>0</td>\n",
       "      <td>0</td>\n",
       "      <td>0</td>\n",
       "      <td>1</td>\n",
       "      <td>0</td>\n",
       "      <td>0</td>\n",
       "      <td>0</td>\n",
       "      <td>0</td>\n",
       "      <td>0</td>\n",
       "    </tr>\n",
       "    <tr>\n",
       "      <th>2</th>\n",
       "      <td>47931</td>\n",
       "      <td>6659444</td>\n",
       "      <td>0</td>\n",
       "      <td>0</td>\n",
       "      <td>0</td>\n",
       "      <td>0</td>\n",
       "      <td>0</td>\n",
       "      <td>0</td>\n",
       "      <td>0</td>\n",
       "      <td>0</td>\n",
       "      <td>...</td>\n",
       "      <td>0</td>\n",
       "      <td>0</td>\n",
       "      <td>0</td>\n",
       "      <td>0</td>\n",
       "      <td>1</td>\n",
       "      <td>0</td>\n",
       "      <td>0</td>\n",
       "      <td>0</td>\n",
       "      <td>0</td>\n",
       "      <td>0</td>\n",
       "    </tr>\n",
       "    <tr>\n",
       "      <th>3</th>\n",
       "      <td>279085</td>\n",
       "      <td>7151591</td>\n",
       "      <td>0</td>\n",
       "      <td>1</td>\n",
       "      <td>0</td>\n",
       "      <td>0</td>\n",
       "      <td>0</td>\n",
       "      <td>0</td>\n",
       "      <td>0</td>\n",
       "      <td>0</td>\n",
       "      <td>...</td>\n",
       "      <td>0</td>\n",
       "      <td>0</td>\n",
       "      <td>0</td>\n",
       "      <td>0</td>\n",
       "      <td>1</td>\n",
       "      <td>0</td>\n",
       "      <td>0</td>\n",
       "      <td>0</td>\n",
       "      <td>0</td>\n",
       "      <td>0</td>\n",
       "    </tr>\n",
       "    <tr>\n",
       "      <th>4</th>\n",
       "      <td>7806</td>\n",
       "      <td>6705666</td>\n",
       "      <td>0</td>\n",
       "      <td>0</td>\n",
       "      <td>0</td>\n",
       "      <td>0</td>\n",
       "      <td>0</td>\n",
       "      <td>0</td>\n",
       "      <td>0</td>\n",
       "      <td>0</td>\n",
       "      <td>...</td>\n",
       "      <td>0</td>\n",
       "      <td>0</td>\n",
       "      <td>0</td>\n",
       "      <td>0</td>\n",
       "      <td>1</td>\n",
       "      <td>0</td>\n",
       "      <td>0</td>\n",
       "      <td>0</td>\n",
       "      <td>0</td>\n",
       "      <td>0</td>\n",
       "    </tr>\n",
       "  </tbody>\n",
       "</table>\n",
       "<p>5 rows × 1917 columns</p>\n",
       "</div>"
      ],
      "text/plain": [
       "       id  student_id  age_indicator0  age_indicator1  age_indicator2  \\\n",
       "0   15182     6694527               0               0               0   \n",
       "1   89385     6712877               0               0               0   \n",
       "2   47931     6659444               0               0               0   \n",
       "3  279085     7151591               0               1               0   \n",
       "4    7806     6705666               0               0               0   \n",
       "\n",
       "   age_indicator3  age_indicator4  age_indicator5  age_indicator6  \\\n",
       "0               0               0               0               0   \n",
       "1               0               0               0               0   \n",
       "2               0               0               0               0   \n",
       "3               0               0               0               0   \n",
       "4               0               0               0               0   \n",
       "\n",
       "   age_indicator7  ...  feedback_avg_d52  feedback_avg_d53  feedback_avg_d54  \\\n",
       "0               0  ...                 0                 0                 0   \n",
       "1               0  ...                 0                 0                 0   \n",
       "2               0  ...                 0                 0                 0   \n",
       "3               0  ...                 0                 0                 0   \n",
       "4               0  ...                 0                 0                 0   \n",
       "\n",
       "   feedback_avg_d55  target0  target1  target2  target3  target4  target5  \n",
       "0                 0        1        0        0        0        0        0  \n",
       "1                 0        1        0        0        0        0        0  \n",
       "2                 0        1        0        0        0        0        0  \n",
       "3                 0        1        0        0        0        0        0  \n",
       "4                 0        1        0        0        0        0        0  \n",
       "\n",
       "[5 rows x 1917 columns]"
      ]
     },
     "execution_count": 524,
     "metadata": {},
     "output_type": "execute_result"
    }
   ],
   "source": [
    "dfres.head()"
   ]
  },
  {
   "cell_type": "markdown",
   "metadata": {},
   "source": [
    "### Разбиваем обратно набор на обучающий и тестовый"
   ]
  },
  {
   "cell_type": "code",
   "execution_count": 525,
   "metadata": {},
   "outputs": [],
   "source": [
    "def split_back(df, len_df):\n",
    "    #features = df.iloc[:, 0:5] + df.iloc[:,11:]\n",
    "    df1 = df.iloc[:len_df, :]\n",
    "    df2 = df.iloc[len_df:, :]\n",
    "    return df1, df2"
   ]
  },
  {
   "cell_type": "code",
   "execution_count": 526,
   "metadata": {},
   "outputs": [],
   "source": [
    "data_df, test_df = split_back(dfres, len_df)"
   ]
  },
  {
   "cell_type": "code",
   "execution_count": null,
   "metadata": {},
   "outputs": [],
   "source": [
    "def get_features_labels(df):\n",
    "    features = df.iloc[:, 4:]\n",
    "    labels = df.iloc[:, :4]\n",
    "    return features, labels"
   ]
  },
  {
   "cell_type": "code",
   "execution_count": null,
   "metadata": {},
   "outputs": [],
   "source": [
    "x_train, y_train = get_features_labels(train_df)"
   ]
  },
  {
   "cell_type": "markdown",
   "metadata": {},
   "source": [
    "### Создаем нужные классы"
   ]
  },
  {
   "cell_type": "code",
   "execution_count": null,
   "metadata": {},
   "outputs": [],
   "source": [
    "class BinaryDataset(Dataset):\n",
    "    def __init__(self, x, y):\n",
    "        self.x = x\n",
    "        self.y = y\n",
    "\n",
    "    def __len__(self):\n",
    "        return len(self.x)\n",
    "\n",
    "    def __getitem__(self, index):\n",
    "        features = self.x[index, :]\n",
    "        labels = self.y[index, :]\n",
    "\n",
    "        # we have 12 feature columns \n",
    "        features = torch.tensor(features, dtype=torch.float32)\n",
    "        # there are 5 classes and each class can have a binary value ...\n",
    "        # ... either 0 or 1\n",
    "        label1 = torch.tensor(labels[0], dtype=torch.float32)\n",
    "        label2 = torch.tensor(labels[1], dtype=torch.float32)\n",
    "        label3 = torch.tensor(labels[2], dtype=torch.float32)\n",
    "        label4 = torch.tensor(labels[3], dtype=torch.float32)\n",
    "        label5 = torch.tensor(labels[4], dtype=torch.float32)\n",
    "        return {\n",
    "            'features': features,\n",
    "            'label1': label1,\n",
    "            'label2': label2,\n",
    "            'label3': label3,\n",
    "            'label4': label4,\n",
    "            'label5': label5,\n",
    "        }"
   ]
  },
  {
   "cell_type": "code",
   "execution_count": null,
   "metadata": {},
   "outputs": [],
   "source": [
    "class MultiHeadBinaryModel(nn.Module):\n",
    "    def __init__(self):\n",
    "        super(MultiHeadBinaryModel, self).__init__()\n",
    "        self.fc1 = nn.Linear(12, 32) # 12 is the number of features\n",
    "        self.fc2 = nn.Linear(32, 64)\n",
    "        self.fc3 = nn.Linear(64, 128)\n",
    "        self.fc4 = nn.Linear(128, 256)\n",
    "\n",
    "        # we will treat each head as a binary classifier ...\n",
    "        # ... so the output features will be 1\n",
    "        self.out1 = nn.Linear(256, 1)\n",
    "        self.out2 = nn.Linear(256, 1)\n",
    "        self.out3 = nn.Linear(256, 1)\n",
    "        self.out4 = nn.Linear(256, 1)\n",
    "        self.out5 = nn.Linear(256, 1)\n",
    "\n",
    "    def forward(self, x):\n",
    "        x = F.relu(self.fc1(x))\n",
    "        x = F.relu(self.fc2(x))\n",
    "        x = F.relu(self.fc3(x))\n",
    "        x = F.relu(self.fc4(x))\n",
    "\n",
    "        # each binary classifier head will have its own output\n",
    "        out1 = F.sigmoid(self.out1(x))\n",
    "        out2 = F.sigmoid(self.out2(x))\n",
    "        out3 = F.sigmoid(self.out3(x))\n",
    "        out4 = F.sigmoid(self.out4(x))\n",
    "        out5 = F.sigmoid(self.out5(x))\n",
    "\n",
    "        return out1, out2, out3, out4, out5"
   ]
  },
  {
   "cell_type": "code",
   "execution_count": null,
   "metadata": {},
   "outputs": [],
   "source": [
    "def binary_loss_fn(outputs, targets):\n",
    "    o1, o2, o3, o4, o5 = outputs\n",
    "    t1, t2, t3, t4, t5 = targets\n",
    "    l1 = nn.BCELoss()(o1, t1)\n",
    "    l2 = nn.BCELoss()(o2, t2)\n",
    "    l3 = nn.BCELoss()(o3, t3)\n",
    "    l4 = nn.BCELoss()(o4, t4)\n",
    "    l5 = nn.BCELoss()(o5, t5)\n",
    "    return (l1 + l2 + l3 + l4 + l5) / 5"
   ]
  },
  {
   "cell_type": "code",
   "execution_count": null,
   "metadata": {},
   "outputs": [],
   "source": [
    "from dataset import make_dataset, BinaryDataset\n",
    "from torch.utils.data import DataLoader\n",
    "from loss_functions import binary_loss_fn as loss_fn\n",
    "from models import MultiHeadBinaryModel\n",
    "from tqdm import tqdm\n",
    "import torch.optim as optim\n",
    "import torch.nn as nn\n",
    "import torch\n",
    "import matplotlib.pyplot as plt\n",
    "import matplotlib\n",
    "matplotlib.style.use('ggplot')"
   ]
  },
  {
   "cell_type": "code",
   "execution_count": null,
   "metadata": {},
   "outputs": [],
   "source": [
    "#train_multi_head_binary.py\n",
    "# prepare the dataset\n",
    "x_train, y_train, _, _ = make_dataset()\n",
    "# print some info\n",
    "print(f\"[INFO]: Number of training samples: {x_train.shape[0]}\")\n",
    "print(f\"[INFO]: Number of training features: {x_train.shape[1]}\")\n",
    "# train dataset\n",
    "train_dataset = BinaryDataset(x_train, y_train)\n",
    "# train data loader\n",
    "train_dataloader = DataLoader(train_dataset, shuffle=True, batch_size=1024)\n",
    "# initialize the model\n",
    "model = MultiHeadBinaryModel()"
   ]
  },
  {
   "cell_type": "code",
   "execution_count": null,
   "metadata": {},
   "outputs": [],
   "source": [
    "def train(model, dataloader, optimizer, loss_fn, train_dataset, device):\n",
    "    model.train()\n",
    "    counter = 0\n",
    "    train_running_loss = 0.0\n",
    "    for i, data in tqdm(enumerate(dataloader), total=int(len(train_dataset)/dataloader.batch_size)):\n",
    "        counter += 1\n",
    "\n",
    "        # extract the features and labels\n",
    "        features = data['features'].to(device)\n",
    "        target1 = data['label1'].to(device)\n",
    "        target2 = data['label2'].to(device)\n",
    "        target3 = data['label3'].to(device)\n",
    "        target4 = data['label4'].to(device)\n",
    "        target5 = data['label5'].to(device)\n",
    "\n",
    "        # zero-out the optimizer gradients\n",
    "        optimizer.zero_grad()\n",
    "\n",
    "        outputs = model(features)\n",
    "        targets = (target1, target2, target3, target4, target5)\n",
    "        loss = loss_fn(outputs, targets)\n",
    "        train_running_loss += loss.item()\n",
    "\n",
    "        # backpropagation\n",
    "        loss.backward()\n",
    "        # update optimizer parameters\n",
    "        optimizer.step()\n",
    "\n",
    "    train_loss = train_running_loss / counter\n",
    "    return train_loss"
   ]
  },
  {
   "cell_type": "code",
   "execution_count": null,
   "metadata": {},
   "outputs": [],
   "source": [
    "optimizer = optim.Adam(params=model.parameters(), lr=0.001)\n",
    "device = torch.device('cuda' if torch.cuda.is_available() else 'cpu')\n",
    "epochs = 100\n",
    "# load the model on to the computation device\n",
    "model.to(device)"
   ]
  },
  {
   "cell_type": "code",
   "execution_count": null,
   "metadata": {},
   "outputs": [],
   "source": [
    "#train_multi_head_binary.py\n",
    "# start the training\n",
    "train_loss = []\n",
    "for epoch in range(epochs):\n",
    "    print(f\"Epoch {epoch+1} of {epochs}\")\n",
    "    train_epoch_loss = train(\n",
    "        model, train_dataloader, optimizer, loss_fn, train_dataset, device\n",
    "    )\n",
    "    train_loss.append(train_epoch_loss)\n",
    "    print(f\"Train Loss: {train_epoch_loss:.4f}\")\n",
    "torch.save(model.state_dict(), 'outputs/multi_head_binary.pth')"
   ]
  },
  {
   "cell_type": "code",
   "execution_count": null,
   "metadata": {},
   "outputs": [],
   "source": [
    "#train_multi_head_binary.py\n",
    "# plot and save the train loss graph\n",
    "plt.figure(figsize=(10, 7))\n",
    "plt.plot(train_loss, color='orange', label='train loss')\n",
    "plt.xlabel('Epochs')\n",
    "plt.ylabel('Loss')\n",
    "plt.legend()\n",
    "plt.savefig('outputs/multi_head_binary_loss.png')\n",
    "plt.show()"
   ]
  },
  {
   "cell_type": "code",
   "execution_count": null,
   "metadata": {},
   "outputs": [],
   "source": [
    "#inference_multi_head_binary.py\n",
    "from dataset import make_dataset, BinaryDataset\n",
    "from torch.utils.data import DataLoader\n",
    "from models import MultiHeadBinaryModel\n",
    "import torch\n",
    "device = torch.device('cuda' if torch.cuda.is_available() else 'cpu')"
   ]
  },
  {
   "cell_type": "code",
   "execution_count": null,
   "metadata": {},
   "outputs": [],
   "source": [
    "#inference_multi_head_binary.py\n",
    "_, _, x_test, y_test = make_dataset()\n",
    "# print some info\n",
    "print(f\"[INFO]: Number of test samples: {x_test.shape[0]}\")\n",
    "print(f\"[INFO]: Number of test features: {x_test.shape[1]}\")\n",
    "test_dataset = BinaryDataset(x_test, y_test)\n",
    "test_dataloader = DataLoader(test_dataset, shuffle=False, batch_size=1)"
   ]
  },
  {
   "cell_type": "code",
   "execution_count": null,
   "metadata": {},
   "outputs": [],
   "source": [
    "#inference_multi_head_binary.py\n",
    "# prepare the trained model\n",
    "model = MultiHeadBinaryModel()\n",
    "model.load_state_dict(torch.load('outputs/multi_head_binary.pth'))\n",
    "model.to(device)\n",
    "model.eval()"
   ]
  },
  {
   "cell_type": "code",
   "execution_count": null,
   "metadata": {},
   "outputs": [],
   "source": [
    "#inference_multi_head_binary.py\n",
    "for i, test_sample in enumerate(test_dataloader):\n",
    "    print(f\"SAMPLE {i}\")\n",
    "    # extract the features and labels\n",
    "    features = test_sample['features'].to(device)\n",
    "    target1 = test_sample['label1'].to(device)\n",
    "    target2 = test_sample['label2'].to(device)\n",
    "    target3 = test_sample['label3'].to(device)\n",
    "    target4 = test_sample['label4'].to(device)\n",
    "    target5 = test_sample['label5'].to(device)\n",
    "\n",
    "    outputs = model(features)\n",
    "\n",
    "    # get all the labels\n",
    "    all_labels = []\n",
    "    for out in outputs:\n",
    "        if out >= 0.5:\n",
    "            all_labels.append(1)\n",
    "        else:\n",
    "            all_labels.append(0)\n",
    "\n",
    "    targets = (target1, target2, target3, target4, target5)\n",
    "\n",
    "    # get all the targets in int format from tensor format\n",
    "    all_targets = []\n",
    "    for target in targets:\n",
    "        all_targets.append(int(target.squeeze(0).detach().cpu()))\n",
    "\n",
    "    print(f\"ALL PREDICTIONS: {all_labels}\")\n",
    "    print(f\"GROUND TRUTHS: {all_targets}\")"
   ]
  }
 ],
 "metadata": {
  "colab": {
   "collapsed_sections": [],
   "name": "Нетология_baseline.ipynb",
   "provenance": []
  },
  "kernelspec": {
   "display_name": "hack_ai_env",
   "language": "python",
   "name": "hack_ai_env"
  },
  "language_info": {
   "codemirror_mode": {
    "name": "ipython",
    "version": 3
   },
   "file_extension": ".py",
   "mimetype": "text/x-python",
   "name": "python",
   "nbconvert_exporter": "python",
   "pygments_lexer": "ipython3",
   "version": "3.10.4"
  }
 },
 "nbformat": 4,
 "nbformat_minor": 1
}
